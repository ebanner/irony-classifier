{
 "cells": [
  {
   "cell_type": "code",
   "execution_count": 80,
   "metadata": {
    "collapsed": false
   },
   "outputs": [
    {
     "name": "stdout",
     "output_type": "stream",
     "text": [
      "/v/filer4b/v20q001/ebanner/Classes/nlp/Project/irony-classifier\n"
     ]
    }
   ],
   "source": [
    "cd /v/filer4b/v20q001/ebanner/Classes/nlp/Project/irony-classifier"
   ]
  },
  {
   "cell_type": "markdown",
   "metadata": {},
   "source": [
    "# Bag of Words Classifier"
   ]
  },
  {
   "cell_type": "markdown",
   "metadata": {},
   "source": [
    "## Load Comments "
   ]
  },
  {
   "cell_type": "code",
   "execution_count": 81,
   "metadata": {
    "collapsed": false
   },
   "outputs": [],
   "source": [
    "import json\n",
    "import numpy as np\n",
    "\n",
    "with open('data/comments.json', 'r') as comments_f:\n",
    "    examples = json.load(comments_f)\n",
    "examples = [ (x, y) for x, y in examples.items() ]"
   ]
  },
  {
   "cell_type": "code",
   "execution_count": null,
   "metadata": {
    "collapsed": true
   },
   "outputs": [],
   "source": [
    "# Create arrays\n",
    "xs = np.array([ x for x, y in examples ])\n",
    "ys = np.array([ y for x, y in examples ])"
   ]
  },
  {
   "cell_type": "markdown",
   "metadata": {},
   "source": [
    "## Vectorize Comments"
   ]
  },
  {
   "cell_type": "code",
   "execution_count": 83,
   "metadata": {
    "collapsed": false
   },
   "outputs": [],
   "source": [
    "from sklearn.feature_extraction.text import CountVectorizer\n",
    "\n",
    "vectorizer = CountVectorizer(max_features=50000, binary=True, ngram_range=(1,2), stop_words=\"english\")\n",
    "X = vectorizer.fit_transform(xs)"
   ]
  },
  {
   "cell_type": "markdown",
   "metadata": {},
   "source": [
    "### Feature Names"
   ]
  },
  {
   "cell_type": "code",
   "execution_count": 84,
   "metadata": {
    "collapsed": false,
    "scrolled": true
   },
   "outputs": [
    {
     "data": {
      "text/plain": [
       "[u'admitted',\n",
       " u'admitted puncxuppercase',\n",
       " u'arguments',\n",
       " u'arguments shills',\n",
       " u'atheist',\n",
       " u'away',\n",
       " u'benefit',\n",
       " u'benefit financially',\n",
       " u'bitch',\n",
       " u'bitch heat',\n",
       " u'blow',\n",
       " u'blow away',\n",
       " u'butt',\n",
       " u'close',\n",
       " u'close racist',\n",
       " u'consumers',\n",
       " u'consumers benefit',\n",
       " u'craft',\n",
       " u'deceive',\n",
       " u'deceive consumers',\n",
       " u'democrats',\n",
       " u'democrats butt',\n",
       " u'does',\n",
       " u'does sound',\n",
       " u'drying',\n",
       " u'drying blow',\n",
       " u'exhaust',\n",
       " u'exhaust stream',\n",
       " u'expands',\n",
       " u'expands wider',\n",
       " u'far',\n",
       " u'far wider',\n",
       " u'financially',\n",
       " u'fine',\n",
       " u'fine institutions',\n",
       " u'finish',\n",
       " u'finish drying',\n",
       " u'fox',\n",
       " u'funny',\n",
       " u'funny arguments',\n",
       " u'going',\n",
       " u'going kick',\n",
       " u'gop',\n",
       " u'gop admitted',\n",
       " u'heat',\n",
       " u'heat lamp',\n",
       " u'high',\n",
       " u'high pressure',\n",
       " u'higher',\n",
       " u'higher look',\n",
       " u'http',\n",
       " u'http www',\n",
       " u'huh',\n",
       " u'huh puncxquestion_mark',\n",
       " u'insane',\n",
       " u'insane like',\n",
       " u'institutions',\n",
       " u'institutions stoop',\n",
       " u'kick',\n",
       " u'kick democrats',\n",
       " u'lamp',\n",
       " u'lamp finish',\n",
       " u'law',\n",
       " u'law going',\n",
       " u'level',\n",
       " u'level deceive',\n",
       " u'like',\n",
       " u'like fox',\n",
       " u'look',\n",
       " u'look video',\n",
       " u'low',\n",
       " u'low level',\n",
       " u'making',\n",
       " u'making close',\n",
       " u'pressure',\n",
       " u'pressure exhaust',\n",
       " u'pressure expands',\n",
       " u'puncxquestion_mark',\n",
       " u'puncxuppercase',\n",
       " u'racist',\n",
       " u'racist remarks',\n",
       " u'remarks',\n",
       " u'remarks gop',\n",
       " u'right',\n",
       " u'right puncxquestion_mark',\n",
       " u'shills',\n",
       " u'shills making',\n",
       " u'shock',\n",
       " u'shock fine',\n",
       " u'sound',\n",
       " u'sound right',\n",
       " u'stoop',\n",
       " u'stoop low',\n",
       " u'stream',\n",
       " u'stream far',\n",
       " u'stream high',\n",
       " u'throw',\n",
       " u'throw bitch',\n",
       " u'utter',\n",
       " u'utter shock',\n",
       " u'video',\n",
       " u'video exhaust',\n",
       " u'wider',\n",
       " u'wider craft',\n",
       " u'wider higher',\n",
       " u'www']"
      ]
     },
     "execution_count": 84,
     "metadata": {},
     "output_type": "execute_result"
    }
   ],
   "source": [
    "vectorizer.get_feature_names()"
   ]
  },
  {
   "cell_type": "markdown",
   "metadata": {},
   "source": [
    "### Vectorized Comments"
   ]
  },
  {
   "cell_type": "code",
   "execution_count": 92,
   "metadata": {
    "collapsed": false
   },
   "outputs": [
    {
     "data": {
      "text/plain": [
       "array([[0, 0, 0, ..., 1, 1, 0],\n",
       "       [0, 0, 0, ..., 0, 0, 0],\n",
       "       [0, 0, 0, ..., 0, 0, 0],\n",
       "       ..., \n",
       "       [1, 1, 1, ..., 0, 0, 0],\n",
       "       [0, 0, 0, ..., 0, 0, 0],\n",
       "       [0, 0, 0, ..., 0, 0, 0]])"
      ]
     },
     "execution_count": 92,
     "metadata": {},
     "output_type": "execute_result"
    }
   ],
   "source": [
    "X.toarray()"
   ]
  },
  {
   "cell_type": "markdown",
   "metadata": {},
   "source": [
    "## 5-Fold Test"
   ]
  },
  {
   "cell_type": "code",
   "execution_count": 86,
   "metadata": {
    "collapsed": false
   },
   "outputs": [],
   "source": [
    "from sklearn.cross_validation import KFold\n",
    "\n",
    "kf = KFold(len(xs), n_folds=5, shuffle=True)"
   ]
  },
  {
   "cell_type": "code",
   "execution_count": 87,
   "metadata": {
    "collapsed": false
   },
   "outputs": [
    {
     "name": "stdout",
     "output_type": "stream",
     "text": [
      "(array([0, 1, 2, 3, 4, 6, 7, 8]), array([5, 9]))\n",
      "(array([0, 2, 3, 5, 6, 7, 8, 9]), array([1, 4]))\n",
      "(array([1, 2, 3, 4, 5, 7, 8, 9]), array([0, 6]))\n",
      "(array([0, 1, 2, 4, 5, 6, 8, 9]), array([3, 7]))\n",
      "(array([0, 1, 3, 4, 5, 6, 7, 9]), array([2, 8]))\n"
     ]
    }
   ],
   "source": [
    "for train, test in kf:\n",
    "    print(train, test)"
   ]
  },
  {
   "cell_type": "code",
   "execution_count": 93,
   "metadata": {
    "collapsed": false,
    "scrolled": true
   },
   "outputs": [
    {
     "name": "stdout",
     "output_type": "stream",
     "text": [
      "(<8x106 sparse matrix of type '<type 'numpy.int64'>'\n",
      "\twith 103 stored elements in Compressed Sparse Row format>, <2x106 sparse matrix of type '<type 'numpy.int64'>'\n",
      "\twith 4 stored elements in Compressed Sparse Row format>)\n",
      "(array([-1, -1,  1,  1,  1,  1, -1,  1]), array([-1, -1]))\n",
      "(<8x106 sparse matrix of type '<type 'numpy.int64'>'\n",
      "\twith 95 stored elements in Compressed Sparse Row format>, <2x106 sparse matrix of type '<type 'numpy.int64'>'\n",
      "\twith 12 stored elements in Compressed Sparse Row format>)\n",
      "(array([-1,  1,  1, -1,  1, -1,  1, -1]), array([-1,  1]))\n",
      "(<8x106 sparse matrix of type '<type 'numpy.int64'>'\n",
      "\twith 78 stored elements in Compressed Sparse Row format>, <2x106 sparse matrix of type '<type 'numpy.int64'>'\n",
      "\twith 29 stored elements in Compressed Sparse Row format>)\n",
      "(array([-1,  1,  1,  1, -1, -1,  1, -1]), array([-1,  1]))\n",
      "(<8x106 sparse matrix of type '<type 'numpy.int64'>'\n",
      "\twith 67 stored elements in Compressed Sparse Row format>, <2x106 sparse matrix of type '<type 'numpy.int64'>'\n",
      "\twith 40 stored elements in Compressed Sparse Row format>)\n",
      "(array([-1, -1,  1,  1, -1,  1,  1, -1]), array([ 1, -1]))\n",
      "(<8x106 sparse matrix of type '<type 'numpy.int64'>'\n",
      "\twith 85 stored elements in Compressed Sparse Row format>, <2x106 sparse matrix of type '<type 'numpy.int64'>'\n",
      "\twith 22 stored elements in Compressed Sparse Row format>)\n",
      "(array([-1, -1,  1,  1, -1,  1, -1, -1]), array([1, 1]))\n"
     ]
    }
   ],
   "source": [
    "for train, test in kf:\n",
    "    # Get training and test data for this round\n",
    "    xs_train, xs_test = X[train], X[test]\n",
    "    ys_train, ys_test = ys[train], ys[test]\n",
    "\n",
    "    print(xs_train, xs_test)\n",
    "    print(ys_train, ys_test)"
   ]
  },
  {
   "cell_type": "markdown",
   "metadata": {},
   "source": [
    "### Predictions Made by SVM"
   ]
  },
  {
   "cell_type": "code",
   "execution_count": 95,
   "metadata": {
    "collapsed": false,
    "scrolled": true
   },
   "outputs": [
    {
     "name": "stdout",
     "output_type": "stream",
     "text": [
      "========================================================================\n",
      "\n",
      "Comment: \n",
      "http://www.\n",
      "Vectorized as:   (0, 11)\t1\n",
      "  (0, 25)\t1\n",
      "  (0, 36)\t1\n",
      "  (0, 61)\t1\n",
      "  (0, 45)\t1\n",
      "  (0, 9)\t1\n",
      "  (0, 97)\t1\n",
      "  (0, 5)\t1\n",
      "  (0, 10)\t1\n",
      "  (0, 24)\t1\n",
      "  (0, 35)\t1\n",
      "  (0, 60)\t1\n",
      "  (0, 44)\t1\n",
      "  (0, 8)\t1\n",
      "  (0, 96)\t1\n",
      "Prediction: 1\n",
      "Was really: -1\n",
      "\n",
      "========================================================================\n",
      "\n",
      "Comment:  \n",
      "\n",
      "\n",
      "He's not an atheist.\n",
      "Vectorized as:   (0, 84)\t1\n",
      "  (0, 90)\t1\n",
      "  (0, 23)\t1\n",
      "  (0, 83)\t1\n",
      "  (0, 89)\t1\n",
      "  (0, 22)\t1\n",
      "  (0, 77)\t1\n",
      "Prediction: 1\n",
      "Was really: -1\n",
      "\n",
      "========================================================================\n",
      "\n",
      "Comment:  the law is going to kick the Democrats in the butt.\n",
      "Vectorized as:   (0, 11)\t1\n",
      "  (0, 25)\t1\n",
      "  (0, 36)\t1\n",
      "  (0, 61)\t1\n",
      "  (0, 45)\t1\n",
      "  (0, 9)\t1\n",
      "  (0, 97)\t1\n",
      "  (0, 5)\t1\n",
      "  (0, 10)\t1\n",
      "  (0, 24)\t1\n",
      "  (0, 35)\t1\n",
      "  (0, 60)\t1\n",
      "  (0, 44)\t1\n",
      "  (0, 8)\t1\n",
      "  (0, 96)\t1\n",
      "Prediction: 1\n",
      "Was really: -1\n",
      "\n",
      "========================================================================\n",
      "\n",
      "Comment:  Huh? PUNCxQUESTION_MARK\n",
      "Vectorized as:   (0, 84)\t1\n",
      "  (0, 90)\t1\n",
      "  (0, 23)\t1\n",
      "  (0, 83)\t1\n",
      "  (0, 89)\t1\n",
      "  (0, 22)\t1\n",
      "  (0, 77)\t1\n",
      "Prediction: -1\n",
      "Was really: 1\n",
      "\n",
      "========================================================================\n",
      "\n",
      "Comment:   Less pressure around the exhaust stream (which is high pressure itself), and it expands wider as you go higher\n",
      "\n",
      "If you look at the video now, the exhaust stream is far wider than the craft itself\n",
      "Vectorized as:   (0, 11)\t1\n",
      "  (0, 25)\t1\n",
      "  (0, 36)\t1\n",
      "  (0, 61)\t1\n",
      "  (0, 45)\t1\n",
      "  (0, 9)\t1\n",
      "  (0, 97)\t1\n",
      "  (0, 5)\t1\n",
      "  (0, 10)\t1\n",
      "  (0, 24)\t1\n",
      "  (0, 35)\t1\n",
      "  (0, 60)\t1\n",
      "  (0, 44)\t1\n",
      "  (0, 8)\t1\n",
      "  (0, 96)\t1\n",
      "Prediction: -1\n",
      "Was really: -1\n",
      "\n",
      "========================================================================\n",
      "\n",
      "Comment: Insane like a fox.\n",
      "Vectorized as:   (0, 84)\t1\n",
      "  (0, 90)\t1\n",
      "  (0, 23)\t1\n",
      "  (0, 83)\t1\n",
      "  (0, 89)\t1\n",
      "  (0, 22)\t1\n",
      "  (0, 77)\t1\n",
      "Prediction: -1\n",
      "Was really: 1\n",
      "\n",
      "========================================================================\n",
      "\n",
      "Comment: I for one am in utter shock that these fine institutions would stoop to such a low level to deceive consumers and benefit themselves financially.\n",
      "Vectorized as:   (0, 11)\t1\n",
      "  (0, 25)\t1\n",
      "  (0, 36)\t1\n",
      "  (0, 61)\t1\n",
      "  (0, 45)\t1\n",
      "  (0, 9)\t1\n",
      "  (0, 97)\t1\n",
      "  (0, 5)\t1\n",
      "  (0, 10)\t1\n",
      "  (0, 24)\t1\n",
      "  (0, 35)\t1\n",
      "  (0, 60)\t1\n",
      "  (0, 44)\t1\n",
      "  (0, 8)\t1\n",
      "  (0, 96)\t1\n",
      "Prediction: 1\n",
      "Was really: 1\n",
      "\n",
      "========================================================================\n",
      "\n",
      "Comment: It's funny how the arguments the shills are making here are still so close to the racist remarks the GOP has already admitted to. PUNCxUPPERCASE\n",
      "Vectorized as:   (0, 84)\t1\n",
      "  (0, 90)\t1\n",
      "  (0, 23)\t1\n",
      "  (0, 83)\t1\n",
      "  (0, 89)\t1\n",
      "  (0, 22)\t1\n",
      "  (0, 77)\t1\n",
      "Prediction: 1\n",
      "Was really: -1\n",
      "\n",
      "========================================================================\n",
      "\n",
      "Comment:  Throw the bitch under a heat lamp so she can finish drying up and blow away.\n",
      "Vectorized as:   (0, 11)\t1\n",
      "  (0, 25)\t1\n",
      "  (0, 36)\t1\n",
      "  (0, 61)\t1\n",
      "  (0, 45)\t1\n",
      "  (0, 9)\t1\n",
      "  (0, 97)\t1\n",
      "  (0, 5)\t1\n",
      "  (0, 10)\t1\n",
      "  (0, 24)\t1\n",
      "  (0, 35)\t1\n",
      "  (0, 60)\t1\n",
      "  (0, 44)\t1\n",
      "  (0, 8)\t1\n",
      "  (0, 96)\t1\n",
      "Prediction: 1\n",
      "Was really: 1\n",
      "\n",
      "========================================================================\n",
      "\n",
      "Comment:  Does that sound about right? PUNCxQUESTION_MARK\n",
      "Vectorized as:   (0, 84)\t1\n",
      "  (0, 90)\t1\n",
      "  (0, 23)\t1\n",
      "  (0, 83)\t1\n",
      "  (0, 89)\t1\n",
      "  (0, 22)\t1\n",
      "  (0, 77)\t1\n",
      "Prediction: 1\n",
      "Was really: 1\n",
      "\n"
     ]
    }
   ],
   "source": [
    "recalls, precisions, f_measures = [], [], []\n",
    "for train, test in kf:\n",
    "    # Get training and test data for this round\n",
    "    Xs_train, Xs_test = X[train], X[test]\n",
    "    ys_train, ys_test = ys[train], ys[test]\n",
    "\n",
    "    # Train svm\n",
    "    svm = SGDClassifier(loss=\"hinge\", penalty=\"l2\", class_weight=\"auto\", alpha=.01)\n",
    "    parameters = { 'alpha': [.001, .01,  .1] }\n",
    "    clf = GridSearchCV(svm, parameters, scoring='f1')\n",
    "    clf.fit(xs_train, ys_train)\n",
    "\n",
    "    # Make predictions\n",
    "    predictions = clf.predict(Xs_test)\n",
    "    \n",
    "    for test, vector, prediction, actual in zip(xs[test], xs_test, predictions, ys_test):\n",
    "        print '========================================================================'\n",
    "        print\n",
    "        print 'Comment: {}'.format(test.encode('ascii', 'ignore'))\n",
    "        print 'Vectorized as: {}'.format(vector)\n",
    "        print 'Prediction: {}'.format(prediction)\n",
    "        print 'Was really: {}'.format(actual)\n",
    "        print"
   ]
  },
  {
   "cell_type": "markdown",
   "metadata": {},
   "source": [
    "## Performance"
   ]
  },
  {
   "cell_type": "code",
   "execution_count": 71,
   "metadata": {
    "collapsed": false,
    "scrolled": false
   },
   "outputs": [
    {
     "name": "stdout",
     "output_type": "stream",
     "text": [
      "Prediction/Actuals: [(1, 1), (-1, -1)]\n",
      "Precision:   1.0\n",
      "Recall:      1.0\n",
      "F-measure:   1.0\n",
      "Prediction/Actuals: [(1, -1), (-1, 1)]\n",
      "Precision:   0.0\n",
      "Recall:      0.0\n",
      "F-measure:   0.0\n",
      "Prediction/Actuals: [(1, 1), (-1, 1)]\n",
      "Precision:   1.0\n",
      "Recall:      0.5\n",
      "F-measure:   0.666666666667\n",
      "Prediction/Actuals: [(-1, 1), (1, -1)]\n",
      "Precision:   0.0\n",
      "Recall:      0.0\n",
      "F-measure:   0.0\n",
      "Prediction/Actuals: [(-1, -1), (1, -1)]\n",
      "Precision:   0.0\n",
      "Recall:      0.0\n",
      "F-measure:   0.0\n"
     ]
    }
   ],
   "source": [
    "import sklearn\n",
    "\n",
    "for train, test in kf:\n",
    "    # Get training and test data for this round\n",
    "    Xs_train, Xs_test = X[train], X[test]\n",
    "    ys_train, ys_test = ys[train], ys[test]\n",
    "\n",
    "    # Train svm\n",
    "    svm = SGDClassifier(loss=\"hinge\", penalty=\"l2\", class_weight=\"auto\", alpha=.01)\n",
    "    parameters = { 'alpha': [.001, .01,  .1] }\n",
    "    clf = GridSearchCV(svm, parameters, scoring='f1')\n",
    "    clf.fit(xs_train, ys_train)\n",
    "\n",
    "    # Make predictions\n",
    "    predictions = clf.predict(Xs_test)\n",
    "    \n",
    "    precision, recall, f_measure, _ = sklearn.metrics.precision_recall_fscore_support(ys_test, predictions, average='binary')\n",
    "    \n",
    "    print 'Prediction/Actuals: {}'.format(zip(predictions, ys_test))\n",
    "    print 'Precision:   {}'.format(precision)\n",
    "    print 'Recall:      {}'.format(recall)\n",
    "    print 'F-measure:   {}'.format(f_measure)"
   ]
  }
 ],
 "metadata": {
  "kernelspec": {
   "display_name": "Python 2",
   "language": "python",
   "name": "python2"
  },
  "language_info": {
   "codemirror_mode": {
    "name": "ipython",
    "version": 2
   },
   "file_extension": ".py",
   "mimetype": "text/x-python",
   "name": "python",
   "nbconvert_exporter": "python",
   "pygments_lexer": "ipython2",
   "version": "2.7.6"
  }
 },
 "nbformat": 4,
 "nbformat_minor": 0
}
