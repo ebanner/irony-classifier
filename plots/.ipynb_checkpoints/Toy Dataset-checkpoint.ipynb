{
 "cells": [
  {
   "cell_type": "code",
   "execution_count": 3,
   "metadata": {
    "collapsed": false
   },
   "outputs": [
    {
     "name": "stdout",
     "output_type": "stream",
     "text": [
      "/v/filer4b/v20q001/ebanner/Classes/nlp/Project/irony-classifier\n"
     ]
    }
   ],
   "source": [
    "cd /v/filer4b/v20q001/ebanner/Classes/nlp/Project/irony-classifier"
   ]
  },
  {
   "cell_type": "markdown",
   "metadata": {},
   "source": [
    "# Bag of Words Classifier"
   ]
  },
  {
   "cell_type": "code",
   "execution_count": 1,
   "metadata": {
    "collapsed": false
   },
   "outputs": [
    {
     "data": {
      "text/plain": [
       "u'/v/filer4b/v20q001/ebanner/Classes/nlp/Project/irony-classifier/plots'"
      ]
     },
     "execution_count": 1,
     "metadata": {},
     "output_type": "execute_result"
    }
   ],
   "source": [
    "%matplotlib inline\n",
    "\n",
    "import matplotlib.pyplot as plt\n",
    "import numpy as np"
   ]
  },
  {
   "cell_type": "code",
   "execution_count": 8,
   "metadata": {
    "collapsed": true
   },
   "outputs": [],
   "source": [
    "import json\n",
    "import numpy as np"
   ]
  },
  {
   "cell_type": "markdown",
   "metadata": {},
   "source": [
    "## Preprocessing"
   ]
  },
  {
   "cell_type": "markdown",
   "metadata": {},
   "source": [
    "### Load Comments "
   ]
  },
  {
   "cell_type": "code",
   "execution_count": 26,
   "metadata": {
    "collapsed": false
   },
   "outputs": [],
   "source": [
    "with open('data/comments.json', 'r') as comments_f:\n",
    "    examples = json.load(comments_f)\n",
    "examples = [ (x, y) for x, y in examples.items() ]\n",
    "\n",
    "# Create arrays\n",
    "xs = np.array([ x for x, y in examples ])\n",
    "ys = np.array([ y for x, y in examples ])"
   ]
  },
  {
   "cell_type": "markdown",
   "metadata": {},
   "source": [
    "### Vectorize Comments"
   ]
  },
  {
   "cell_type": "code",
   "execution_count": 27,
   "metadata": {
    "collapsed": false
   },
   "outputs": [],
   "source": [
    "from sklearn.feature_extraction.text import CountVectorizer\n",
    "\n",
    "vectorizer = CountVectorizer(max_features=50000, binary=True, stop_words=\"english\")\n",
    "X = vectorizer.fit_transform(xs)"
   ]
  },
  {
   "cell_type": "markdown",
   "metadata": {},
   "source": [
    "#### Feature Names"
   ]
  },
  {
   "cell_type": "code",
   "execution_count": 22,
   "metadata": {
    "collapsed": false,
    "scrolled": true
   },
   "outputs": [
    {
     "data": {
      "text/plain": [
       "[u'admitted',\n",
       " u'arguments',\n",
       " u'atheist',\n",
       " u'away',\n",
       " u'benefit',\n",
       " u'bitch',\n",
       " u'blow',\n",
       " u'butt',\n",
       " u'close',\n",
       " u'consumers',\n",
       " u'craft',\n",
       " u'deceive',\n",
       " u'democrats',\n",
       " u'does',\n",
       " u'drying',\n",
       " u'exhaust',\n",
       " u'expands',\n",
       " u'far',\n",
       " u'financially',\n",
       " u'fine',\n",
       " u'finish',\n",
       " u'fox',\n",
       " u'funny',\n",
       " u'going',\n",
       " u'gop',\n",
       " u'heat',\n",
       " u'high',\n",
       " u'higher',\n",
       " u'http',\n",
       " u'huh',\n",
       " u'insane',\n",
       " u'institutions',\n",
       " u'kick',\n",
       " u'lamp',\n",
       " u'law',\n",
       " u'level',\n",
       " u'like',\n",
       " u'look',\n",
       " u'low',\n",
       " u'making',\n",
       " u'pressure',\n",
       " u'puncxquestion_mark',\n",
       " u'puncxuppercase',\n",
       " u'racist',\n",
       " u'remarks',\n",
       " u'right',\n",
       " u'shills',\n",
       " u'shock',\n",
       " u'sound',\n",
       " u'stoop',\n",
       " u'stream',\n",
       " u'throw',\n",
       " u'utter',\n",
       " u'video',\n",
       " u'wider',\n",
       " u'www']"
      ]
     },
     "execution_count": 22,
     "metadata": {},
     "output_type": "execute_result"
    }
   ],
   "source": [
    "vectorizer.get_feature_names()"
   ]
  },
  {
   "cell_type": "markdown",
   "metadata": {},
   "source": [
    "### Vectorized Comments"
   ]
  },
  {
   "cell_type": "code",
   "execution_count": 20,
   "metadata": {
    "collapsed": false
   },
   "outputs": [
    {
     "data": {
      "text/plain": [
       "array([[0, 0, 0, ..., 1, 1, 0],\n",
       "       [0, 0, 0, ..., 0, 0, 0],\n",
       "       [0, 0, 0, ..., 0, 0, 0],\n",
       "       ..., \n",
       "       [1, 1, 1, ..., 0, 0, 0],\n",
       "       [0, 0, 0, ..., 0, 0, 0],\n",
       "       [0, 0, 0, ..., 0, 0, 0]])"
      ]
     },
     "execution_count": 20,
     "metadata": {},
     "output_type": "execute_result"
    }
   ],
   "source": [
    "X.toarray()"
   ]
  },
  {
   "cell_type": "markdown",
   "metadata": {},
   "source": [
    "## 5-Fold Test"
   ]
  },
  {
   "cell_type": "code",
   "execution_count": 23,
   "metadata": {
    "collapsed": true
   },
   "outputs": [],
   "source": [
    "from sklearn.cross_validation import KFold\n",
    "\n",
    "kf = KFold(len(xs), n_folds=5, shuffle=True)"
   ]
  },
  {
   "cell_type": "code",
   "execution_count": 24,
   "metadata": {
    "collapsed": false
   },
   "outputs": [
    {
     "name": "stdout",
     "output_type": "stream",
     "text": [
      "(array([0, 1, 2, 4, 5, 6, 7, 9]), array([3, 8]))\n",
      "(array([0, 1, 2, 3, 6, 7, 8, 9]), array([4, 5]))\n",
      "(array([0, 1, 2, 3, 4, 5, 7, 8]), array([6, 9]))\n",
      "(array([1, 3, 4, 5, 6, 7, 8, 9]), array([0, 2]))\n",
      "(array([0, 2, 3, 4, 5, 6, 8, 9]), array([1, 7]))\n"
     ]
    }
   ],
   "source": [
    "for train, test in kf:\n",
    "    print(train, test)"
   ]
  },
  {
   "cell_type": "code",
   "execution_count": 47,
   "metadata": {
    "collapsed": false,
    "scrolled": true
   },
   "outputs": [
    {
     "name": "stdout",
     "output_type": "stream",
     "text": [
      "(<8x56 sparse matrix of type '<type 'numpy.int64'>'\n",
      "\twith 42 stored elements in Compressed Sparse Row format>, <2x56 sparse matrix of type '<type 'numpy.int64'>'\n",
      "\twith 15 stored elements in Compressed Sparse Row format>)\n",
      "(array([-1, -1,  1,  1, -1,  1, -1, -1]), array([1, 1]))\n",
      "(<8x56 sparse matrix of type '<type 'numpy.int64'>'\n",
      "\twith 53 stored elements in Compressed Sparse Row format>, <2x56 sparse matrix of type '<type 'numpy.int64'>'\n",
      "\twith 4 stored elements in Compressed Sparse Row format>)\n",
      "(array([-1, -1,  1,  1,  1, -1,  1, -1]), array([ 1, -1]))\n",
      "(<8x56 sparse matrix of type '<type 'numpy.int64'>'\n",
      "\twith 53 stored elements in Compressed Sparse Row format>, <2x56 sparse matrix of type '<type 'numpy.int64'>'\n",
      "\twith 4 stored elements in Compressed Sparse Row format>)\n",
      "(array([-1, -1,  1,  1,  1, -1, -1,  1]), array([ 1, -1]))\n",
      "(<8x56 sparse matrix of type '<type 'numpy.int64'>'\n",
      "\twith 38 stored elements in Compressed Sparse Row format>, <2x56 sparse matrix of type '<type 'numpy.int64'>'\n",
      "\twith 19 stored elements in Compressed Sparse Row format>)\n",
      "(array([-1,  1,  1, -1,  1, -1,  1, -1]), array([-1,  1]))\n",
      "(<8x56 sparse matrix of type '<type 'numpy.int64'>'\n",
      "\twith 42 stored elements in Compressed Sparse Row format>, <2x56 sparse matrix of type '<type 'numpy.int64'>'\n",
      "\twith 15 stored elements in Compressed Sparse Row format>)\n",
      "(array([-1,  1,  1,  1, -1,  1,  1, -1]), array([-1, -1]))\n"
     ]
    }
   ],
   "source": [
    "for train, test in kf:\n",
    "    # Get training and test data for this round\n",
    "    xs_train, xs_test = X[train], X[test]\n",
    "    ys_train, ys_test = ys[train], ys[test]\n",
    "\n",
    "    print(xs_train, xs_test)\n",
    "    print(ys_train, ys_test)"
   ]
  },
  {
   "cell_type": "markdown",
   "metadata": {},
   "source": [
    "### Predictions Made by SVM"
   ]
  },
  {
   "cell_type": "code",
   "execution_count": 45,
   "metadata": {
    "collapsed": false,
    "scrolled": true
   },
   "outputs": [
    {
     "name": "stdout",
     "output_type": "stream",
     "text": [
      "========================================================================\n",
      "\n",
      "Comment: I for one am in utter shock that these fine institutions would stoop to such a low level to deceive consumers and benefit themselves financially.\n",
      "Vectorized as:   (0, 7)\t1\n",
      "  (0, 12)\t1\n",
      "  (0, 32)\t1\n",
      "  (0, 23)\t1\n",
      "  (0, 34)\t1\n",
      "Prediction: 1\n",
      "Was really: 1\n",
      "\n",
      "========================================================================\n",
      "\n",
      "Comment:  Does that sound about right? PUNCxQUESTION_MARK\n",
      "Vectorized as:   (0, 42)\t1\n",
      "  (0, 0)\t1\n",
      "  (0, 24)\t1\n",
      "  (0, 44)\t1\n",
      "  (0, 43)\t1\n",
      "  (0, 8)\t1\n",
      "  (0, 39)\t1\n",
      "  (0, 46)\t1\n",
      "  (0, 1)\t1\n",
      "  (0, 22)\t1\n",
      "Prediction: -1\n",
      "Was really: 1\n",
      "\n",
      "========================================================================\n",
      "\n",
      "Comment:  Huh? PUNCxQUESTION_MARK\n",
      "Vectorized as:   (0, 7)\t1\n",
      "  (0, 12)\t1\n",
      "  (0, 32)\t1\n",
      "  (0, 23)\t1\n",
      "  (0, 34)\t1\n",
      "Prediction: 1\n",
      "Was really: 1\n",
      "\n",
      "========================================================================\n",
      "\n",
      "Comment: \n",
      "http://www.\n",
      "Vectorized as:   (0, 42)\t1\n",
      "  (0, 0)\t1\n",
      "  (0, 24)\t1\n",
      "  (0, 44)\t1\n",
      "  (0, 43)\t1\n",
      "  (0, 8)\t1\n",
      "  (0, 39)\t1\n",
      "  (0, 46)\t1\n",
      "  (0, 1)\t1\n",
      "  (0, 22)\t1\n",
      "Prediction: 1\n",
      "Was really: -1\n",
      "\n",
      "========================================================================\n",
      "\n",
      "Comment: Insane like a fox.\n",
      "Vectorized as:   (0, 7)\t1\n",
      "  (0, 12)\t1\n",
      "  (0, 32)\t1\n",
      "  (0, 23)\t1\n",
      "  (0, 34)\t1\n",
      "Prediction: -1\n",
      "Was really: 1\n",
      "\n",
      "========================================================================\n",
      "\n",
      "Comment:  \n",
      "\n",
      "\n",
      "He's not an atheist.\n",
      "Vectorized as:   (0, 42)\t1\n",
      "  (0, 0)\t1\n",
      "  (0, 24)\t1\n",
      "  (0, 44)\t1\n",
      "  (0, 43)\t1\n",
      "  (0, 8)\t1\n",
      "  (0, 39)\t1\n",
      "  (0, 46)\t1\n",
      "  (0, 1)\t1\n",
      "  (0, 22)\t1\n",
      "Prediction: 1\n",
      "Was really: -1\n",
      "\n",
      "========================================================================\n",
      "\n",
      "Comment:   Less pressure around the exhaust stream (which is high pressure itself), and it expands wider as you go higher\n",
      "\n",
      "If you look at the video now, the exhaust stream is far wider than the craft itself\n",
      "Vectorized as:   (0, 7)\t1\n",
      "  (0, 12)\t1\n",
      "  (0, 32)\t1\n",
      "  (0, 23)\t1\n",
      "  (0, 34)\t1\n",
      "Prediction: -1\n",
      "Was really: -1\n",
      "\n",
      "========================================================================\n",
      "\n",
      "Comment:  Throw the bitch under a heat lamp so she can finish drying up and blow away.\n",
      "Vectorized as:   (0, 42)\t1\n",
      "  (0, 0)\t1\n",
      "  (0, 24)\t1\n",
      "  (0, 44)\t1\n",
      "  (0, 43)\t1\n",
      "  (0, 8)\t1\n",
      "  (0, 39)\t1\n",
      "  (0, 46)\t1\n",
      "  (0, 1)\t1\n",
      "  (0, 22)\t1\n",
      "Prediction: 1\n",
      "Was really: 1\n",
      "\n",
      "========================================================================\n",
      "\n"
     ]
    },
    {
     "ename": "UnicodeEncodeError",
     "evalue": "'ascii' codec can't encode character u'\\u201d' in position 0: ordinal not in range(128)",
     "output_type": "error",
     "traceback": [
      "\u001b[1;31m---------------------------------------------------------------------------\u001b[0m",
      "\u001b[1;31mUnicodeEncodeError\u001b[0m                        Traceback (most recent call last)",
      "\u001b[1;32m<ipython-input-45-5ab2d09d6f06>\u001b[0m in \u001b[0;36m<module>\u001b[1;34m()\u001b[0m\n\u001b[0;32m     17\u001b[0m         \u001b[1;32mprint\u001b[0m \u001b[1;34m'========================================================================'\u001b[0m\u001b[1;33m\u001b[0m\u001b[0m\n\u001b[0;32m     18\u001b[0m         \u001b[1;32mprint\u001b[0m\u001b[1;33m\u001b[0m\u001b[0m\n\u001b[1;32m---> 19\u001b[1;33m         \u001b[1;32mprint\u001b[0m \u001b[1;34m'Comment: {}'\u001b[0m\u001b[1;33m.\u001b[0m\u001b[0mformat\u001b[0m\u001b[1;33m(\u001b[0m\u001b[0mtest\u001b[0m\u001b[1;33m)\u001b[0m\u001b[1;33m\u001b[0m\u001b[0m\n\u001b[0m\u001b[0;32m     20\u001b[0m         \u001b[1;32mprint\u001b[0m \u001b[1;34m'Vectorized as: {}'\u001b[0m\u001b[1;33m.\u001b[0m\u001b[0mformat\u001b[0m\u001b[1;33m(\u001b[0m\u001b[0mvector\u001b[0m\u001b[1;33m)\u001b[0m\u001b[1;33m\u001b[0m\u001b[0m\n\u001b[0;32m     21\u001b[0m         \u001b[1;32mprint\u001b[0m \u001b[1;34m'Prediction: {}'\u001b[0m\u001b[1;33m.\u001b[0m\u001b[0mformat\u001b[0m\u001b[1;33m(\u001b[0m\u001b[0mprediction\u001b[0m\u001b[1;33m)\u001b[0m\u001b[1;33m\u001b[0m\u001b[0m\n",
      "\u001b[1;31mUnicodeEncodeError\u001b[0m: 'ascii' codec can't encode character u'\\u201d' in position 0: ordinal not in range(128)"
     ]
    }
   ],
   "source": [
    "recalls, precisions, f_measures = [], [], []\n",
    "for train, test in kf:\n",
    "    # Get training and test data for this round\n",
    "    Xs_train, Xs_test = X[train], X[test]\n",
    "    ys_train, ys_test = ys[train], ys[test]\n",
    "\n",
    "    # Train svm\n",
    "    svm = SGDClassifier(loss=\"hinge\", penalty=\"l2\", class_weight=\"auto\", alpha=.01)\n",
    "    parameters = { 'alpha': [.001, .01,  .1] }\n",
    "    clf = GridSearchCV(svm, parameters, scoring='f1')\n",
    "    clf.fit(xs_train, ys_train)\n",
    "\n",
    "    # Make predictions\n",
    "    predictions = clf.predict(Xs_test)\n",
    "    \n",
    "    for test, vector, prediction, actual in zip(xs[test], xs_test, predictions, ys_test):\n",
    "        print '========================================================================'\n",
    "        print\n",
    "        print 'Comment: {}'.format(test)\n",
    "        print 'Vectorized as: {}'.format(vector)\n",
    "        print 'Prediction: {}'.format(prediction)\n",
    "        print 'Was really: {}'.format(actual)\n",
    "        print"
   ]
  }
 ],
 "metadata": {
  "kernelspec": {
   "display_name": "Python 2",
   "language": "python",
   "name": "python2"
  },
  "language_info": {
   "codemirror_mode": {
    "name": "ipython",
    "version": 2
   },
   "file_extension": ".py",
   "mimetype": "text/x-python",
   "name": "python",
   "nbconvert_exporter": "python",
   "pygments_lexer": "ipython2",
   "version": "2.7.6"
  }
 },
 "nbformat": 4,
 "nbformat_minor": 0
}
