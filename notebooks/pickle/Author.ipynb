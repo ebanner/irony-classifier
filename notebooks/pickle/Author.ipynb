{
 "cells": [
  {
   "cell_type": "code",
   "execution_count": 22,
   "metadata": {
    "collapsed": false
   },
   "outputs": [
    {
     "name": "stdout",
     "output_type": "stream",
     "text": [
      "/v/filer4b/v20q001/npockrus/NLP/finalProject/venv/src/irony-classifier/notebooks\n"
     ]
    }
   ],
   "source": [
    "cd /u/npockrus/NLP/finalProject/venv/src/irony-classifier/notebooks"
   ]
  },
  {
   "cell_type": "code",
   "execution_count": 23,
   "metadata": {
    "collapsed": false
   },
   "outputs": [
    {
     "name": "stdout",
     "output_type": "stream",
     "text": [
      "5019 comments have been labeled by >= 3 people\n"
     ]
    }
   ],
   "source": [
    "import annotation_stats as db\n",
    "\n",
    "labeled_comment_ids = db.get_labeled_thrice_comments()\n",
    "conservative_comment_ids = list(set([c_id for c_id in \n",
    "        db.get_all_comments_from_subreddit(\"Conservative\") if c_id in labeled_comment_ids]))\n",
    "ironic_comment_ids = db.get_ironic_comment_ids_at_least(2)\n",
    " \n",
    "xs, ys, authors = [], [], []\n",
    "for id_ in conservative_comment_ids:\n",
    "    xs.append(db.grab_comments([id_])[0])\n",
    "    authors.append(db.get_user_ids([id_]))\n",
    "    if id_ in ironic_comment_ids:\n",
    "        ys.append(1)\n",
    "    else:\n",
    "        ys.append(-1)"
   ]
  },
  {
   "cell_type": "code",
   "execution_count": 24,
   "metadata": {
    "collapsed": false
   },
   "outputs": [
    {
     "name": "stdout",
     "output_type": "stream",
     "text": [
      "/v/filer4b/v20q001/npockrus/NLP/finalProject/venv/src/irony-classifier/data/conservative/features/author\n"
     ]
    }
   ],
   "source": [
    "cd /u/npockrus/NLP/finalProject/venv/src/irony-classifier/data/conservative/features/author"
   ]
  },
  {
   "cell_type": "code",
   "execution_count": 25,
   "metadata": {
    "collapsed": false
   },
   "outputs": [],
   "source": [
    "import pickle\n",
    "\n",
    "with open('features.p', 'wb') as f:\n",
    "    pickle.dump({ comment:{'label': label, 'author': author} for comment, label, author in zip(xs, ys, authors) }, f)"
   ]
  },
  {
   "cell_type": "code",
   "execution_count": 26,
   "metadata": {
    "collapsed": false
   },
   "outputs": [
    {
     "name": "stdout",
     "output_type": "stream",
     "text": [
      "[[(u'crosenblum',)], [(u'Yosoff',)], [(u'hatestosmell',)], [(u'chabanais',)], [(u'EricH7',)], [(u'Obamateur_Hour',)], [(u'BrighamYoung',)], [(u'Bronxie',)], [(u'blatherskiter',)], [(u'Vornash',)], [(u'taozero',)], [(u'baldylox',)], [(u'homrqt',)], [(u'chabanais',)], [(u'bunknown',)], [(u'icarusfx',)], [(u'englishmuff',)], [(u'blatherskiter',)], [(u'atimholt',)], [(u'Awkwardly_Frank',)], [(u'the_federalist',)], [(u'',)], [(u'ayrnieu',)], [(u'dlm080',)], [(u'Fly_Caster',)], [(u'Ulfberht1979',)], [(u'Halo-One',)], [(u'V3LV3T',)], [(u'red_tux',)], [(u'Corbanis_Maximus',)], [(u'theultrahumanite',)], [(u'TheFerretman',)], [(u'ultimis',)], [(u'progunner1',)], [(u'west2',)], [(u'sinbad-ass',)], [(u'Ulfberht1979',)], [(u'PhortuneHunter',)], [(u'Ovedya2011',)], [(u'dhyana',)], [(u'Junkis',)], [(u'shazbaz',)], [(u'PayYourBiIIs',)], [(u'logicalthinker1',)], [(u'chabanais',)], [(u'Ericonline',)], [(u'zwind',)], [(u'chabanais',)], [(u'jcphd',)], [(u'b_deam',)], [(u'baldylox',)], [(u'Dranosh',)], [(u'liatris',)], [(u'Domer2012',)], [(u'rickforking',)], [(u'Animal89',)], [(u't_mo',)], [(u'whatwereyouthinking',)], [(u'theolaf',)], [(u'hardliner73',)], [(u'CamelsandDrpepper',)], [(u'TheFerretman',)], [(u'terrortot',)], [(u'BatteryLicker',)], [(u'saratogacv60',)], [(u'suddenlysomnolent',)], [(u'CarolinaPunk',)], [(u'nealt68',)], [(u'WonkaKnowsBest',)], [(u'suddenlysomnolent',)], [(u'spunker88',)], [(u'jeepdave',)], [(u'JimBulloosheet',)], [(u'skleegro',)], [(u'robert32907',)], [(u'MynameisB',)], [(u'mouthbreether',)], [(u'Alomikron',)], [(u'Plebeian_',)], [(u'Rodigan',)], [(u'djere',)], [(u'biergarten',)], [(u'AUBeastmaster',)], [(u'TearsForPeers',)], [(u'StarkRicochet',)], [(u'm_friedman',)], [(u'benghazithrowaway',)], [(u'Sydonai',)], [(u'Trillen',)], [(u'Center60',)], [(u'YOLOBELLY',)], [(u'actofgod22',)], [(u'shazbaz',)], [(u'Kalakashah',)], [(u'theultrahumanite',)], [(u'chabanais',)], [(u'Denog',)], [(u'baldylox',)], [(u'boozername',)], [(u'sarahnocal',)], [(u'wretcheddawn',)], [(u'12345678998765432',)], [(u'Harry_P_Ness',)], [(u'Pinetarball',)], [(u'Halo-One',)], [(u'ziggmuff',)], [(u'orangeblood',)], [(u'DarthRedd',)], [(u'zf49dodge',)], [(u'Thue',)], [(u'cowboyhaze',)], [(u'propshaft',)], [(u'Buck8407',)], [(u'pumphouse',)], [(u'PoliticsAreBlank',)], [(u'suddenlysomnolent',)], [(u'Prototypexx',)], [(u'undreamt_odds',)], [(u'Theseusperse',)], [(u'chrisgjim23',)], [(u'Ctara12345',)], [(u'airmaildolphin',)], [(u'saxonjf',)], [(u'ecstone',)], [(u'Parrot32',)], [(u'Dotz-N-Bubblez',)], [(u'PsychoTap',)], [(u'ghilliegan',)], [(u'NeoPlatonist',)], [(u'quoth_teh_raven',)], [(u'SpeechBoyJerksOff',)], [(u'NakedAndBehindYou',)], [(u'joey_bag_of_anuses',)], [(u'awwwyyyeeeaaahhh',)], [(u'Continuity_organizer',)], [(u'Ron_Swanson12',)], [(u'Livin_The_High_Life',)], [(u'baldylox',)], [(u'liatris',)], [(u'NosuchRedditor',)], [(u'whtsnk',)], [(u'the_federalist',)], [(u'randomtask2005',)], [(u'NakedAndBehindYou',)], [(u'symko',)], [(u'baldylox',)], [(u'Koebs',)], [(u'Animal89',)], [(u'robert32907',)], [(u'baldylox',)], [(u'theolaf',)], [(u'xwhy',)], [(u'the_federalist',)], [(u'Pigman007',)], [(u'tsilb',)], [(u'billyjoedupree',)], [(u'freestinkers2',)], [(u'Fazaman',)], [(u'baldylox',)], [(u'TenzingNorgay',)], [(u'JohnnyDollar',)], [(u'hockeyfan1133',)], [(u'georock',)], [(u'mad_respect',)], [(u'blatherskiter',)], [(u'Ulfberht1979',)], [(u'BadInPublic',)], [(u'I_Ride',)], [(u'b_deam',)], [(u'KineticSolution',)], [(u'blanksblanks77',)], [(u'merkmerk73',)], [(u'phammybly',)], [(u'Rommel79',)], [(u'baldylox',)], [(u'Ctara12345',)], [(u'contrarianism',)], [(u'WonkaKnowsBest',)], [(u'Parrot32',)], [(u'Clatsop',)], [(u'Pinetarball',)], [(u'bunknown',)], [(u'Mister_Johnson',)], [(u'lotsastuff2learn',)], [(u'nurgle_',)], [(u'BerryMeth',)], [(u'randomtask2005',)], [(u'B15',)], [(u'monobarreller',)], [(u'e1349b',)], [(u'chadder06',)], [(u'JimBulloosheet',)], [(u'usuallyskeptical',)], [(u'Fazaman',)], [(u'',)], [(u'Fakenate2',)], [(u'Ctara12345',)], [(u'BerryMeth',)], [(u'iGoatse',)], [(u'Yosoff',)], [(u'LibertyPatriot7',)], [(u'LowReady',)], [(u'jackx3028',)], [(u'UnoriginalMike',)], [(u'Rommel79',)], [(u'Ulfberht1979',)], [(u'Decapitated_Saint',)], [(u'bighedstev',)], [(u'YamiHarrison',)], [(u'Duanedibly',)], [(u'sachmo_muse',)], [(u'boziud',)], [(u'Stink-Finger',)], [(u'DokerinZion',)], [(u'shazbaz',)], [(u'talkin_baseball',)], [(u'adirtygerman',)], [(u'Bronxie',)], [(u'ratiocinium',)], [(u'JimmyNashville',)], [(u'Roez',)], [(u'StopTop',)], [(u'Bronxie',)], [(u'Northwait',)], [(u'Center60',)], [(u'FlapJackDickPants',)], [(u'the_federalist',)], [(u'elcoogarino',)], [(u'robotoverlordz',)], [(u'rukittenme',)], [(u'Hantra',)], [(u'liatris',)], [(u'propshaft',)], [(u'red_tux',)], [(u'',)], [(u'Phredex',)], [(u'ziggmuff',)], [(u'Douglas_Leaf',)], [(u'gotreef',)], [(u'JimBulloosheet',)], [(u'crazywriter',)], [(u'Garzog66',)], [(u'SuzysSnoballs',)], [(u'BrighamYoung',)], [(u'yar_',)], [(u'hy_quip',)], [(u'',)], [(u'firetaucayenne',)], [(u'jixom',)], [(u'jkonine',)], [(u'time-lord',)], [(u'Ragnar_Fan_6969',)], [(u'kaett',)], [(u'Trakkk',)], [(u'Lvl_99_Magikarp',)], [(u'NosuchRedditor',)], [(u'ziggmuff',)], [(u'BrutalTruth101',)], [(u'deathwheel',)], [(u'Denog',)], [(u'HeavyMetalBeliever',)], [(u'B15',)], [(u'lrdwlmr',)], [(u'Mastodon9',)], [(u'rockpainter',)], [(u'zf49dodge',)], [(u'rjohnson99',)], [(u'the_federalist',)], [(u'8K12',)], [(u'purpledinosaur0',)], [(u'philosophyisenergy',)], [(u'raw157',)], [(u'BizarroDiggtard',)], [(u'Mister_Johnson',)], [(u'I_hate_cities',)], [(u'OceansOnPluto',)], [(u'contrarianism',)], [(u'cdb3492',)], [(u'ANAL_PLUNDERING',)], [(u'Jakerrrrr',)], [(u'Dranosh',)], [(u'DaTruthHurtz',)], [(u'smokyjones',)], [(u'liatris',)], [(u'DevonWeeks',)], [(u'jeremt22344',)], [(u'UnoriginalMike',)], [(u'judgemebymyusername',)], [(u'aveygt',)], [(u'cogent_thought',)], [(u'Martin_Van_Ruin',)], [(u'freestinkers2',)], [(u'paulthebookguy',)], [(u'DJDevine',)], [(u'Old-Hickory',)], [(u'hatestosmell',)], [(u'baldylox',)], [(u'west2',)], [(u'liatris',)], [(u'SpaceUnicorn',)], [(u'blatherskiter',)], [(u'BrighamYoung',)], [(u'from_de_dust',)], [(u'mainebass',)], [(u'ToastyForce',)], [(u'spcbackacker',)], [(u'WonkaKnowsBest',)], [(u'Iriestx',)], [(u'PoliticsAreBlank',)], [(u'ozymandris',)], [(u'StandardToaster895',)], [(u'sachmo_muse',)], [(u'grogbast',)], [(u'CCM26',)], [(u'Parrot32',)], [(u'greatdanton1',)], [(u'bruestle2',)], [(u'Alomikron',)], [(u'zodirento',)], [(u'NosuchRedditor',)], [(u'baldylox',)], [(u'FapFapkins',)], [(u'LibertyPatriot7',)], [(u'robotoverlordz',)], [(u'robert32907',)], [(u'_glenn_',)], [(u'bunknown',)], [(u'monic_binomial',)], [(u'BerryMeth',)], [(u'liatris',)], [(u'saxonjf',)], [(u'savagee2k',)], [(u'sadistmushroom',)], [(u'joey_bag_of_anuses',)], [(u'Samuel_L_Blackson',)], [(u'Trakkk',)], [(u'FOHmixer',)], [(u'opinionsatwork',)], [(u'baldylox',)], [(u'k33w33',)], [(u'NeoPlatonist',)], [(u'logicalthinker1',)], [(u'scungillipig',)], [(u'jjkewlz',)], [(u'peaches-in-heck',)], [(u'qnh12',)], [(u'liatris',)], [(u'BrighamYoung',)], [(u'NakedAndBehindYou',)], [(u'atlas1171',)], [(u'',)], [(u'Halo-One',)], [(u'NewspaperNelson',)], [(u'beniyaz',)], [(u'chabanais',)], [(u'crowecreek',)], [(u'BerryMeth',)], [(u'pyrojoe121',)], [(u'kks1236',)], [(u'FourMy',)], [(u'Nick_Burns_ThatsMe',)], [(u'liatris',)], [(u'liatris',)], [(u'DevonWeeks',)], [(u'turennesaurus',)], [(u'slippery_people',)], [(u'Iaskico',)], [(u'DoublespeakAbounds',)], [(u'DrMussintouchit',)], [(u'HisDivineShad0w',)], [(u'BrutalTruth101',)], [(u'NosuchRedditor',)], [(u'freewally',)], [(u'contrarianism',)], [(u'NakedAndBehindYou',)], [(u'chabanais',)], [(u'sachmo_muse',)], [(u'RicoSuav',)], [(u'krstptts',)], [(u'hugezeldafan',)], [(u'discocrisco',)], [(u'Rommel79',)], [(u'LVDave',)], [(u'KineticSolution',)], [(u'IVGreen',)], [(u'chabanais',)], [(u'Cazador775',)], [(u'grizzfan',)], [(u'Polymarchos',)], [(u'nacapass',)], [(u'TheGrim1',)], [(u'DerJawsh',)], [(u'hockeyfan1133',)], [(u'',)], [(u'sinbad-ass',)], [(u'NonTrivialPursuit',)], [(u'NosuchRedditor',)], [(u'Clatsop',)], [(u'JimBulloosheet',)], [(u'BrutalTruth101',)], [(u'objectivisttree',)], [(u'imjgaltstill',)], [(u'Peregrination',)], [(u'kks1236',)], [(u'b_deam',)], [(u'liatris',)], [(u'93_Vector',)], [(u'Northwait',)], [(u'englishmuff',)], [(u'GOPWN',)], [(u'Mister_Johnson',)], [(u'freestinkers2',)], [(u'lollliiipops',)], [(u'dnlprkns',)], [(u'Schlegdawg',)], [(u'BrighamYoung',)], [(u'SingerBaby',)], [(u'JimmyNashville',)], [(u'puppypaws98',)], [(u'Phredex',)], [(u'Rhawk187',)], [(u'andrethegiantshead',)], [(u'weatherninja',)], [(u'SomeNetworkGuy',)], [(u'turennesaurus',)], [(u'jkonine',)], [(u'biergarten',)], [(u'Shopsmith',)], [(u'Deathcloc',)], [(u'johnny0',)], [(u'I_hate_cities',)], [(u'IizPyrate',)], [(u'Philofadelphia',)], [(u'TheLoCoRaven',)], [(u'logicalthinker1',)], [(u'hatestosmell',)], [(u'blatherskiter',)], [(u'zwind',)], [(u'The_Washingtonian',)], [(u'fr3shout',)], [(u'tryinnottocomment',)], [(u'EVILteddie',)], [(u'shiner_man',)], [(u'chadder06',)], [(u'BrutalTruth101',)], [(u'saxonjf',)], [(u'Animal89',)], [(u'',)], [(u'ziggmuff',)], [(u'tubey-R-0-tubey',)], [(u'scungillipig',)], [(u'gabepwashere',)], [(u'LobsterRollinOn24s',)], [(u'Phredex',)], [(u'',)], [(u'exigence',)], [(u'BrutalTruth101',)], [(u'propshaft',)], [(u'DevonWeeks',)], [(u'Phredex',)], [(u'wtfci',)], [(u'Cdr_Obvious',)], [(u'symko',)], [(u'rcchomework',)], [(u'simplytwo',)], [(u'cowboyhaze',)], [(u'Cern_Stormrunner',)], [(u'nottaprodigy',)], [(u'Tycho411',)], [(u'noelsusman',)], [(u'KnightGalahad',)], [(u'darksideguy',)], [(u'EtherCJ',)], [(u'baldylox',)], [(u'Admiral_Arzar',)], [(u'saxonjf',)], [(u'symko',)], [(u'Bankerofblood1',)], [(u'joey_bag_of_anuses',)], [(u'Nveinus',)], [(u'BrighamYoung',)], [(u'dbstjdals',)], [(u'logicalthinker1',)], [(u'NeoPlatonist',)], [(u'notbusy',)], [(u'WolfeBane84',)], [(u'dcstapleton',)], [(u'Harold_Smith',)], [(u'thechickenslave',)], [(u'philosophyisenergy',)], [(u'c0horst',)], [(u'NeoPlatonist',)], [(u'jmgfootball123',)], [(u'Animal89',)], [(u'DoublespeakAbounds',)], [(u'exwrestler83',)], [(u'saxonjf',)], [(u'CamelsandDrpepper',)], [(u'FlapJackDickPants',)], [(u'welfaretrain',)], [(u'Dranosh',)], [(u'TheFerretman',)], [(u'liatris',)], [(u'frodegar',)], [(u'GOPWN',)], [(u'TearsForPeers',)], [(u'scungillipig',)], [(u'AmericanSk3ptic',)], [(u'nick012000',)], [(u'DarthRedd',)], [(u'propshaft',)], [(u'tallcady',)], [(u'ChairDeBurlap',)], [(u'chabanais',)], [(u'Herschey',)], [(u'DevonWeeks',)], [(u'Obamateur_Hour',)], [(u'soylent_absinthe',)], [(u'englishmuff',)], [(u'Qonold',)], [(u'pc25',)], [(u'Pater-Familias',)], [(u'blatherskiter',)], [(u'whatwereyouthinking',)], [(u'BrighamYoung',)], [(u'Continuity_organizer',)], [(u'joey_bag_of_anuses',)], [(u'JimBulloosheet',)], [(u'Bronxie',)], [(u'HonorableTedCruz',)], [(u'liatris',)], [(u'cogent_thought',)], [(u'The_Overton_window',)], [(u'zArtLaffer',)], [(u'liatris',)], [(u'b_deam',)], [(u'contrarianism',)], [(u'Everlovin',)], [(u'Slippery_Slope_Guy',)], [(u'wannalawa',)], [(u'Vannen00',)], [(u'starchaser75',)], [(u'liatris',)], [(u'ziggmuff',)], [(u'Mead_Man',)], [(u'ajamison',)], [(u'bunknown',)], [(u'Everlovin',)], [(u'mrfurious2k',)], [(u'TearsForPeers',)], [(u'hcirtsafonos',)], [(u'Indeed527',)], [(u'JohnnyDollar',)], [(u'saxonjf',)], [(u'DESTROYER3264',)], [(u'narcedmonkey',)], [(u'teaparty6',)], [(u'blatherskiter',)], [(u'free-minded',)], [(u'Meow_Dib',)], [(u'JimBulloosheet',)], [(u'freestinkers2',)], [(u'Jahames',)], [(u'aveygt',)], [(u'freestinkers2',)], [(u'freestinkers2',)], [(u'homeward_bound_',)], [(u'propshaft',)], [(u'dat_lanky_kid',)], [(u'jeffsfather',)], [(u'Sydonai',)], [(u'worncheese2',)], [(u'IlGesu',)], [(u'joshuad80',)], [(u'norternp',)], [(u'dreamscapesaga',)], [(u'I_hate_cities',)], [(u'jkonine',)], [(u'dmtry',)], [(u'guiltygear11',)], [(u'CutterJohn',)], [(u'IXLR82',)], [(u'X-tian_pothead',)], [(u'baldylox',)], [(u'',)], [(u'RuNaa',)], [(u'573v3',)], [(u'gpia7r',)], [(u'DrMussintouchit',)], [(u'feedayeen',)], [(u'Big_Sniggs',)], [(u'barrett51bmg',)], [(u'JimBulloosheet',)], [(u'ziggmuff',)], [(u'',)], [(u'co_radio',)], [(u'SuzysSnoballs',)], [(u'randyranderson1001',)], [(u'Hyperx1313',)], [(u'xdewx',)], [(u'NakedAndBehindYou',)], [(u'baldylox',)], [(u'joey_bag_of_anuses',)], [(u'WalterFromWaco',)], [(u'chabanais',)], [(u'ronomaly',)], [(u'outthroughtheindoor',)], [(u'uberbob79',)], [(u'ThruHiker',)], [(u'Leathernecks',)], [(u'contrarianism',)], [(u'vityok',)], [(u'debunking_bunk',)], [(u'tossoutaccountOHIO',)], [(u'joels1234',)], [(u'PayYourBiIIs',)], [(u'borderite2000',)], [(u'iworkoverseas',)], [(u'JimBulloosheet',)], [(u'propshaft',)], [(u'Tycho411',)], [(u'jolleyness',)], [(u'Indeed527',)], [(u'Bronxie',)], [(u'Stufffblood',)], [(u'skleegro',)], [(u'KnightGalahad',)], [(u'UnoriginalMike',)], [(u'imanimalent',)], [(u'radicalracist',)], [(u'calladus',)], [(u'Pigman007',)], [(u'robotoverlordz',)], [(u'Continuity_organizer',)], [(u'GOPWN',)], [(u'the_weak_sauce',)], [(u'Zmo64',)], [(u'baldylox',)], [(u'FalconLorenzo',)], [(u'BrutalTruth101',)], [(u'Animal89',)], [(u'meco03211',)], [(u'',)], [(u'Michaeldwiles',)], [(u'kilgoretuna',)], [(u'I_am_the_night',)], [(u'DevonWeeks',)], [(u'P_G_T_Beauregard',)], [(u'usuallyskeptical',)], [(u'timtom45',)], [(u'WhiskeyT',)], [(u'nihil2909',)], [(u'bigrob1',)], [(u'ManBearPig92',)], [(u'joshuad80',)], [(u'freethrowtommy',)], [(u'sapiophile',)], [(u'Dranosh',)], [(u'stubing',)], [(u'CrashLogic',)], [(u'clickmyface',)], [(u'mostnormal',)], [(u'prailock',)], [(u'the_federalist',)], [(u'WyoVolunteer',)], [(u'XL_ARES_IX',)], [(u'spunker88',)], [(u'blanksblanks77',)], [(u'',)], [(u'Jakerrrrr',)], [(u'propshaft',)], [(u'ziggmuff',)], [(u'Animal89',)], [(u'rerational',)], [(u'The_Overton_window',)], [(u'theolaf',)], [(u'ultimis',)], [(u'cowboyhaze',)], [(u'kraftcrew',)], [(u'xplato',)], [(u'liatris',)], [(u'PoliticsAreBlank',)], [(u'Opren',)], [(u'logicalthinker1',)], [(u'sachmo_muse',)], [(u'paper_boy_1',)], [(u'Parrot32',)], [(u'steve0210',)], [(u'baldylox',)], [(u'DukeMaximum',)], [(u'andrethegiantshead',)], [(u'darngooddogs',)], [(u'Animal89',)], [(u'rabblerousershadow',)], [(u'Gregorofthehillpeopl',)], [(u'Aleksander73',)], [(u'debunking_bunk',)], [(u'TheFerretman',)], [(u'shazbaz',)], [(u'darksideguy',)], [(u'PhilosoGuido',)], [(u'logicalthinker1',)], [(u'quoth_teh_raven',)], [(u'chriser80229',)], [(u'McCulley',)], [(u'puddboy',)], [(u'DerJawsh',)], [(u'blatherskiter',)], [(u'MrDoctorSmartyPants',)], [(u'GOPWN',)], [(u'chabanais',)], [(u'Fakenate2',)], [(u'Maldavos',)], [(u'GeorgeHermanBluth',)], [(u'logicalthinker1',)], [(u'Wookie_Haircuts',)], [(u'inspector_71',)], [(u'NeoPlatonist',)], [(u'logicalthinker1',)], [(u'SmokeyHamster',)], [(u'BrighamYoung',)], [(u'elcoogarino',)], [(u'merkmerk73',)], [(u'FapFapkins',)], [(u'chabanais',)], [(u'Guillotine1911',)], [(u'undreamt_odds',)], [(u'pumadude321',)], [(u'lazydonovan',)], [(u'baldylox',)], [(u'Kalakashah',)], [(u'kinzzz',)], [(u'admvp',)], [(u'liatris',)], [(u'FlapJackDickPants',)], [(u'nealski77',)], [(u'lollliiipops',)], [(u'Ghost_of_Onyx',)], [(u'The_Overton_window',)], [(u'rjohnson99',)], [(u'Obamateur_Hour',)], [(u'ultimis',)], [(u'BenignEvil',)], [(u'chabanais',)], [(u'Rommel79',)], [(u'cowboyhaze',)], [(u'contrarianism',)], [(u'UnoriginalMike',)], [(u'chabanais',)], [(u'BrighamYoung',)], [(u'crowecreek',)], [(u'DoublespeakAbounds',)], [(u'inspector_71',)], [(u'fargofx',)], [(u'kingyujiro',)], [(u'shazbaz',)], [(u'bucknell001',)], [(u'Animal89',)], [(u'Parrot32',)], [(u'nurgle_',)], [(u'baldylox',)], [(u'MrDoctorSmartyPants',)], [(u'liatris',)], [(u'blatherskiter',)], [(u'TheFerretman',)], [(u'HoogaChakka',)], [(u'Lone_Wolf',)], [(u'Qkix',)], [(u'Phredex',)], [(u'rukittenme',)], [(u'liatris',)], [(u'k33w33',)], [(u'baldylox',)], [(u'wethedownvoted',)], [(u'baldylox',)], [(u'baldylox',)], [(u'deathsythe',)], [(u'LibertyPatriot7',)], [(u'macgillweer',)], [(u'freestinkers2',)], [(u'',)], [(u'biergarten',)], [(u'the_federalist',)], [(u'So-Cal-Mountain-Man',)], [(u'JimBulloosheet',)], [(u'BerryMeth',)], [(u'w1ndxx',)], [(u'Rouand',)], [(u'ForWhomTheBoneBones',)], [(u'smokyjones',)], [(u'Deceptiveideas',)], [(u'VanSensei',)], [(u'baldylox',)], [(u'funkytonight',)], [(u'ViNtaGeRiFF',)], [(u'Phredex',)], [(u'',)], [(u'PaintedCeiling',)], [(u'elcoogarino',)], [(u'propshaft',)], [(u'wethedownvoted',)], [(u'JimBulloosheet',)], [(u'debunking_bunk',)], [(u'ayePALINDROMEeye',)], [(u'k33w33',)], [(u'welfaretrain',)], [(u'b_deam',)], [(u'8bitsince86',)], [(u'DrTBurn',)], [(u'HDZombieSlayerTV',)], [(u'atk124',)], [(u'stubborn_d0nkey',)], [(u'liatris',)], [(u'tsatech493',)], [(u'Admiral_Arzar',)], [(u'puddboy',)], [(u'nunyain',)], [(u'DevonWeeks',)], [(u'mcotoole',)], [(u'ViNtaGeRiFF',)], [(u'Retarded_Goyim',)], [(u'NosuchRedditor',)], [(u'semperpee',)], [(u'W_Edwards_Deming',)], [(u'rabblerousershadow',)], [(u'LowReady',)], [(u'BerryMeth',)], [(u'Sonu9100',)], [(u'blatherskiter',)], [(u'Clete2',)], [(u'OMGwordsIMoffended',)], [(u'Andykatz14',)], [(u'YamiHarrison',)], [(u'RTardicus',)], [(u'rabid-penguin',)], [(u'Oldschool1964',)], [(u'the_federalist',)], [(u'semperpee',)], [(u'baldylox',)], [(u'freestinkers2',)], [(u'KnightGalahad',)], [(u'fuckthiscrazyshit',)], [(u'Yosoff',)], [(u'Clamdoodle',)], [(u'chadder06',)], [(u'super_ag',)], [(u'Everlovin',)], [(u'nurgle_',)], [(u'NakedAndBehindYou',)], [(u'hoteljuliet',)], [(u'dirdum',)], [(u'LibertyPatriot7',)], [(u'freestinkers2',)], [(u'treake',)], [(u'',)], [(u'ultimis',)], [(u'The_Hanging_Chad',)], [(u'Yosoff',)], [(u'tossoutaccountOHIO',)], [(u'baldylox',)], [(u'Anenome5',)], [(u'dnlprkns',)], [(u'spunker88',)], [(u'bigrob1',)], [(u'sinbad-ass',)], [(u'ziggmuff',)], [(u'throwaway___013',)], [(u'weldcoman',)], [(u'Jwilliams7272',)], [(u'screwymoose',)], [(u'BrutalTruth101',)], [(u'welfaretrain',)], [(u'omdufro',)], [(u'liatris',)], [(u'BigcountryRon',)], [(u'dlm080',)], [(u'threerocks',)], [(u'Phredex',)], [(u'',)], [(u'BizarroDiggtard',)], [(u'TheFerretman',)], [(u'FlyingPeacock',)], [(u'geobloke',)], [(u'Jonny_Watts',)], [(u'the_federalist',)], [(u'Icculus333',)], [(u'BadgerPuncher',)], [(u'gillesthegreat',)], [(u'GoodOnYouOnAccident',)], [(u'fourhourboner',)], [(u'EventualCyborg',)], [(u'jlasoreilly',)], [(u'dirtybernie',)], [(u'malthuss',)], [(u'logicalthinker1',)], [(u'Astrixtc',)], [(u'KineticSolution',)], [(u'joey_bag_of_anuses',)], [(u'tsilb',)], [(u'Deathcloc',)], [(u'Paper_boy_',)], [(u'Phredex',)], [(u'parkowork',)], [(u'JimBulloosheet',)], [(u'PCinstallingfool',)], [(u'TheFerretman',)], [(u'Dave_PH',)], [(u'theultrahumanite',)], [(u'buggabill',)], [(u'unkleman',)], [(u'beniyaz',)], [(u'muonavon',)], [(u'charliemorrell',)], [(u'NakedAndBehindYou',)], [(u'peepeesheets',)], [(u'HerrGubba',)], [(u'JimmyNashville',)], [(u'ziggmuff',)], [(u'Clockmaster_Xenos',)], [(u'BizarroDiggtard',)], [(u'',)], [(u'NeoPlatonist',)], [(u'Katahund',)], [(u'Animal89',)], [(u'',)], [(u'smikevth',)], [(u'Dranosh',)], [(u'JimBulloosheet',)], [(u'johnsoad14',)], [(u'SaulAlinskie',)], [(u'freestinkers2',)], [(u'smokyjones',)], [(u'DoublespeakAbounds',)], [(u'Halo-One',)], [(u'TearsForPeers',)], [(u'gillesthegreat',)], [(u'ottersmash',)], [(u'cowboyhaze',)], [(u'dixiepride',)], [(u'Thue',)], [(u'drsfmd',)], [(u'quoth_teh_raven',)], [(u'gunns',)], [(u'DevonWeeks',)], [(u'CarolinaPunk',)], [(u'Nambrik',)], [(u'DevonWeeks',)], [(u'liatris',)], [(u'Yosoff',)]]\n",
      "3\n"
     ]
    }
   ],
   "source": [
    "print author\n",
    "print conservative_comment_ids[0]"
   ]
  },
  {
   "cell_type": "code",
   "execution_count": null,
   "metadata": {
    "collapsed": true
   },
   "outputs": [],
   "source": []
  }
 ],
 "metadata": {
  "kernelspec": {
   "display_name": "Python 2",
   "language": "python",
   "name": "python2"
  },
  "language_info": {
   "codemirror_mode": {
    "name": "ipython",
    "version": 2
   },
   "file_extension": ".py",
   "mimetype": "text/x-python",
   "name": "python",
   "nbconvert_exporter": "python",
   "pygments_lexer": "ipython2",
   "version": "2.7.6"
  }
 },
 "nbformat": 4,
 "nbformat_minor": 0
}
