{
 "cells": [
  {
   "cell_type": "code",
   "execution_count": 46,
   "metadata": {
    "collapsed": true
   },
   "outputs": [],
   "source": [
    "BASE = '/u/ebanner/Classes/nlp/Project/irony-classifier'"
   ]
  },
  {
   "cell_type": "code",
   "execution_count": null,
   "metadata": {
    "collapsed": true
   },
   "outputs": [],
   "source": [
    "BASE = '/u/npockrus/NLP/finalProject/venv/src/irony-classifier'"
   ]
  },
  {
   "cell_type": "markdown",
   "metadata": {},
   "source": [
    "# Get All Progressive Sentences"
   ]
  },
  {
   "cell_type": "code",
   "execution_count": 47,
   "metadata": {
    "collapsed": false,
    "scrolled": true
   },
   "outputs": [
    {
     "name": "stdout",
     "output_type": "stream",
     "text": [
      "5019 comments have been labeled by >= 3 people\n"
     ]
    }
   ],
   "source": [
    "import annotation_stats as db\n",
    "\n",
    "labeled_comment_ids = db.get_labeled_thrice_comments()\n",
    "progressive_comment_ids = list(set([p_id for p_id in \n",
    "        db.get_all_comments_from_subreddit(\"progressive\") if p_id in labeled_comment_ids]))\n",
    "\n",
    "# Mark sentences as 1 if 2/3 judges said it was ironic\n",
    "collapse_f = lambda lbl_set: 1 if lbl_set.count(1) >= 2 else -1\n",
    "ids, texts, lbls = db.get_texts_and_labels_for_sentences(progressive_comment_ids, collapse=collapse_f)\n",
    "sentiments = db.get_sentiments(ids)"
   ]
  },
  {
   "cell_type": "markdown",
   "metadata": {},
   "source": [
    "# Pickle That Shit"
   ]
  },
  {
   "cell_type": "code",
   "execution_count": 48,
   "metadata": {
    "collapsed": false
   },
   "outputs": [
    {
     "name": "stdout",
     "output_type": "stream",
     "text": [
      "/v/filer4b/v20q001/ebanner/Classes/nlp/Project/irony-classifier/data/progressive/clean\n"
     ]
    }
   ],
   "source": [
    "cd {BASE}/data/progressive/clean/"
   ]
  },
  {
   "cell_type": "code",
   "execution_count": 49,
   "metadata": {
    "collapsed": true
   },
   "outputs": [],
   "source": [
    "import pickle\n",
    "with open('text-sentiment-label.p', 'wb') as f:\n",
    "    pickle.dump({ sentence:{'label': lbl, 'sentiment': sentiment} for sentence, sentiment, lbl in zip(texts, sentiments, lbls) }, f)"
   ]
  }
 ],
 "metadata": {
  "kernelspec": {
   "display_name": "Python 2",
   "language": "python",
   "name": "python2"
  },
  "language_info": {
   "codemirror_mode": {
    "name": "ipython",
    "version": 2
   },
   "file_extension": ".py",
   "mimetype": "text/x-python",
   "name": "python",
   "nbconvert_exporter": "python",
   "pygments_lexer": "ipython2",
   "version": "2.7.6"
  }
 },
 "nbformat": 4,
 "nbformat_minor": 0
}
