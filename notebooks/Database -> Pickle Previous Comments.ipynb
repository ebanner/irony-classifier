{
 "cells": [
  {
   "cell_type": "code",
   "execution_count": 15,
   "metadata": {
    "collapsed": false
   },
   "outputs": [
    {
     "name": "stdout",
     "output_type": "stream",
     "text": [
      "/v/filer4b/v20q001/npockrus/NLP/finalProject/venv/src/irony-classifier/data/conservative/preprocess\n"
     ]
    }
   ],
   "source": [
    "cd /u/npockrus/NLP/finalProject/venv/src/irony-classifier/data/conservative/preprocess/"
   ]
  },
  {
   "cell_type": "code",
   "execution_count": 16,
   "metadata": {
    "collapsed": false,
    "scrolled": true
   },
   "outputs": [
    {
     "name": "stdout",
     "output_type": "stream",
     "text": [
      "5019 comments have been labeled by >= 3 people\n"
     ]
    }
   ],
   "source": [
    "import annotation_stats as db\n",
    "\n",
    "labeled_comment_ids = db.get_labeled_thrice_comments()\n",
    "conservative_comment_ids = list(set([c_id for c_id in \n",
    "        db.get_all_comments_from_subreddit(\"Conservative\") if c_id in labeled_comment_ids]))\n",
    "#conservative_sentence_ids = get_sentence_ids_for_comments(conservative_comment_ids)\n",
    "collapse_f = lambda lbl_set: 1 if lbl_set.count(1) >=2 else -1\n",
    "ids, texts, lbls = db.get_texts_and_labels_for_sentences(conservative_comment_ids, collapse=collapse_f)\n",
    "sentiments = db.get_sentiments(ids)\n",
    "\n",
    "import pickle\n",
    "with open('text-sentiment-label.p', 'wb') as f:\n",
    "    pickle.dump({ sentence:{'label': lbl, 'sentiment': sentiment} for sentence, sentiment, lbl in zip(texts, sentiments, lbls) }, f)\n",
    "\n"
   ]
  },
  {
   "cell_type": "code",
   "execution_count": null,
   "metadata": {
    "collapsed": true
   },
   "outputs": [],
   "source": [
    "ironic_comment_ids = db.get_ironic_comment_ids_at_least(2)\n",
    "\n",
    " \n",
    "xs, ys, author, subreddits = [], [], [], []\n",
    "for id_ in conservative_sentence_ids[:20]:\n",
    "    \n",
    "    xs.append(db.grab_comments([id_])[0])\n",
    "    author.append(db.get_user_ids([id_]))\n",
    "    subreddits.append(db.get_all_previous_subreddits_for_user(author[-1][0][0].decode('utf-8')))\n",
    "    #if subreddits[-1]:\n",
    "     #   print author[-1]\n",
    "    if id_ in ironic_comment_ids:\n",
    "        ys.append(1)\n",
    "    else:\n",
    "        ys.append(-1)"
   ]
  },
  {
   "cell_type": "code",
   "execution_count": 6,
   "metadata": {
    "collapsed": false
   },
   "outputs": [
    {
     "name": "stdout",
     "output_type": "stream",
     "text": [
      "/v/filer4b/v20q001/npockrus/NLP/finalProject/venv/src/irony-classifier/data/conservative/features/subreddits\n"
     ]
    }
   ],
   "source": [
    "cd /u/npockrus/NLP/finalProject/venv/src/irony-classifier/data/conservative/features/subreddits"
   ]
  },
  {
   "cell_type": "code",
   "execution_count": 23,
   "metadata": {
    "collapsed": false,
    "scrolled": false
   },
   "outputs": [],
   "source": [
    "import pickle\n",
    "with open('features.p', 'wb') as f:\n",
    "    pickle.dump({ comment:{'label': label, 'subreddits': subreddit} for comment, label, subreddit in zip(xs, ys, subreddits) }, f)"
   ]
  },
  {
   "cell_type": "code",
   "execution_count": 17,
   "metadata": {
    "collapsed": false
   },
   "outputs": [
    {
     "name": "stdout",
     "output_type": "stream",
     "text": [
      "20\n",
      "[u'AskReddit', u'AskReddit', u'AskReddit', u'AskReddit', u'AskReddit', u'AskReddit', u'AskReddit', u'AskReddit', u'AskReddit', u'AskReddit', u'AskReddit', u'AskReddit', u'AskReddit', u'AskReddit', u'AskReddit', u'whatsbotheringyou', u'GetEmployed', u'GetEmployed', u'AskReddit', u'whatsbotheringyou', u'GetEmployed', u'GetEmployed', u'AskReddit', u'AskMen', u'AskReddit', u'AskReddit', u'AskMen', u'AskReddit', u'AskReddit', u'AskReddit', u'AskReddit', u'AskReddit', u'AskReddit', u'AskReddit', u'AskReddit', u'AskReddit', u'AskReddit', u'AskReddit', u'AskReddit', u'AskReddit', u'AskReddit', u'AskReddit', u'AskReddit', u'AskReddit', u'AskReddit', u'AskReddit', u'AskReddit', u'AskReddit', u'AskReddit', u'amiugly', u'AskReddit', u'amiugly', u'socialskills', u'AskReddit', u'AskReddit', u'AskReddit', u'AskReddit', u'AskReddit', u'AskReddit', u'AskReddit', u'AskReddit', u'amiugly', u'AskReddit', u'AskReddit', u'AskReddit', u'WouldYouRather', u'BuyItForLife', u'smallbusiness', u'smallbusiness', u'verizon', u'AskReddit', u'AskReddit', u'Conservative', u'firefox', u'verizon', u'AskReddit', u'amiugly', u'AskReddit', u'AskReddit', u'AskReddit', u'AskReddit', u'AskReddit', u'TalesFromRetail', u'AskReddit', u'AskReddit', u'AskReddit', u'AskReddit', u'AskReddit', u'AskReddit', u'verizon', u'getdisciplined', u'AskReddit', u'AskReddit', u'AskReddit', u'AskReddit', u'verizon', u'AskReddit', u'AskReddit', u'LifeProTips', u'AskReddit']\n",
      "[(u'crosenblum',)]\n",
      "3\n"
     ]
    }
   ],
   "source": [
    "print len(subreddits)\n",
    "print subreddits[0]\n",
    "print author[0]\n",
    "print conservative_comment_ids[0]"
   ]
  },
  {
   "cell_type": "code",
   "execution_count": null,
   "metadata": {
    "collapsed": true
   },
   "outputs": [],
   "source": []
  }
 ],
 "metadata": {
  "kernelspec": {
   "display_name": "Python 2",
   "language": "python",
   "name": "python2"
  },
  "language_info": {
   "codemirror_mode": {
    "name": "ipython",
    "version": 2
   },
   "file_extension": ".py",
   "mimetype": "text/x-python",
   "name": "python",
   "nbconvert_exporter": "python",
   "pygments_lexer": "ipython2",
   "version": "2.7.6"
  }
 },
 "nbformat": 4,
 "nbformat_minor": 0
}
