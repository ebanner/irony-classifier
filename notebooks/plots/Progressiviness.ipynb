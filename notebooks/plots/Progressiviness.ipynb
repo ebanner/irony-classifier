{
 "cells": [
  {
   "cell_type": "code",
   "execution_count": 11,
   "metadata": {
    "collapsed": true
   },
   "outputs": [],
   "source": [
    "base = '/u/ebanner/Classes/nlp/Project/irony-classifier'"
   ]
  },
  {
   "cell_type": "code",
   "execution_count": null,
   "metadata": {
    "collapsed": true
   },
   "outputs": [],
   "source": [
    "base = '/u/npockrus/NLP/finalProject/venv/src/irony-classifier'"
   ]
  },
  {
   "cell_type": "markdown",
   "metadata": {},
   "source": [
    "# Load Conservative Sentences"
   ]
  },
  {
   "cell_type": "code",
   "execution_count": 12,
   "metadata": {
    "collapsed": false
   },
   "outputs": [
    {
     "name": "stdout",
     "output_type": "stream",
     "text": [
      "/v/filer4b/v20q001/ebanner/Classes/nlp/Project/irony-classifier/data/conservative/features/text+sentiment+subreddit+label+progressiviness\n"
     ]
    }
   ],
   "source": [
    "cd /{base}/data/conservative/features/text+sentiment+subreddit+label+progressiviness/"
   ]
  },
  {
   "cell_type": "code",
   "execution_count": 13,
   "metadata": {
    "collapsed": false
   },
   "outputs": [],
   "source": [
    "import pickle\n",
    "import scipy\n",
    "import numpy as np\n",
    "\n",
    "with open('features.p', 'r') as f:\n",
    "    data = pickle.load(f)\n",
    "\n",
    "progressivinesses = [ data[sentence]['progressiviness'] for sentence in sorted(data) ]\n",
    "ys = np.array([ data[sentence]['label'] for sentence in sorted(data) ])"
   ]
  },
  {
   "cell_type": "markdown",
   "metadata": {},
   "source": [
    "# Separate Positive and Negative Examples"
   ]
  },
  {
   "cell_type": "code",
   "execution_count": 14,
   "metadata": {
    "collapsed": false
   },
   "outputs": [],
   "source": [
    "plus_progressivinesses = [ progressiviness for progressiviness, y in zip(progressivinesses, ys) if y == 1 ]\n",
    "\n",
    "minus_progressivinesses = [ progressiviness for progressiviness, y in zip(progressivinesses, ys) if y == -1 ]"
   ]
  },
  {
   "cell_type": "markdown",
   "metadata": {},
   "source": [
    "# Progressiviness in Ironic Comments"
   ]
  },
  {
   "cell_type": "code",
   "execution_count": 18,
   "metadata": {
    "collapsed": false
   },
   "outputs": [
    {
     "data": {
      "image/png": "[encoded data removed]",
      "text/plain": [
       "<matplotlib.figure.Figure at 0x7f8b715ac290>"
      ]
     },
     "metadata": {},
     "output_type": "display_data"
    }
   ],
   "source": [
    "%matplotlib inline\n",
    "\n",
    "import matplotlib.pyplot as plt\n",
    "\n",
    "plt.hist(plus_progressivinesses, 5, color='green', alpha=0.75)\n",
    "\n",
    "plt.xlabel('Progressiviness')\n",
    "plt.ylabel('Count')\n",
    "plt.title('Distribution of Progressiviness over Ironic Comments')\n",
    "plt.grid(True)\n",
    "\n",
    "plt.show()"
   ]
  },
  {
   "cell_type": "markdown",
   "metadata": {},
   "source": [
    "# Progressiviness in Genuine Comments"
   ]
  },
  {
   "cell_type": "code",
   "execution_count": 19,
   "metadata": {
    "collapsed": false
   },
   "outputs": [
    {
     "data": {
      "image/png": "[encoded data removed]",
      "text/plain": [
       "<matplotlib.figure.Figure at 0x7f8b71c796d0>"
      ]
     },
     "metadata": {},
     "output_type": "display_data"
    }
   ],
   "source": [
    "%matplotlib inline\n",
    "\n",
    "import matplotlib.pyplot as plt\n",
    "\n",
    "plt.hist(minus_progressivinesses, 5, facecolor='blue', alpha=0.75)\n",
    "\n",
    "plt.xlabel('Progressiviness')\n",
    "plt.ylabel('Count')\n",
    "plt.title('Distribution of Progressiviness over Genuine Comments')\n",
    "plt.grid(True)\n",
    "\n",
    "plt.show()"
   ]
  },
  {
   "cell_type": "markdown",
   "metadata": {},
   "source": [
    "# KL Divergence"
   ]
  },
  {
   "cell_type": "code",
   "execution_count": 72,
   "metadata": {
    "collapsed": false,
    "scrolled": true
   },
   "outputs": [],
   "source": [
    "import scipy.stats\n",
    "\n",
    "plus_bins = np.histogram(plus_progressivinesses, bins=np.linspace(-1.5, 1.5, num=50))[0]\n",
    "minus_bins = np.histogram(minus_progressivinesses, bins=np.linspace(-1.5, 1.5, num=50))[0]"
   ]
  },
  {
   "cell_type": "code",
   "execution_count": 73,
   "metadata": {
    "collapsed": false
   },
   "outputs": [],
   "source": [
    "smoothed_plusses = [ plus+1 for plus in plus_bins ]\n",
    "smoothed_minuses = [ minus+1 for minus in minus_bins ]"
   ]
  },
  {
   "cell_type": "code",
   "execution_count": 74,
   "metadata": {
    "collapsed": false
   },
   "outputs": [
    {
     "data": {
      "text/plain": [
       "array([-1.5       , -1.43877551, -1.37755102, -1.31632653, -1.25510204,\n",
       "       -1.19387755, -1.13265306, -1.07142857, -1.01020408, -0.94897959,\n",
       "       -0.8877551 , -0.82653061, -0.76530612, -0.70408163, -0.64285714,\n",
       "       -0.58163265, -0.52040816, -0.45918367, -0.39795918, -0.33673469,\n",
       "       -0.2755102 , -0.21428571, -0.15306122, -0.09183673, -0.03061224,\n",
       "        0.03061224,  0.09183673,  0.15306122,  0.21428571,  0.2755102 ,\n",
       "        0.33673469,  0.39795918,  0.45918367,  0.52040816,  0.58163265,\n",
       "        0.64285714,  0.70408163,  0.76530612,  0.82653061,  0.8877551 ,\n",
       "        0.94897959,  1.01020408,  1.07142857,  1.13265306,  1.19387755,\n",
       "        1.25510204,  1.31632653,  1.37755102,  1.43877551,  1.5       ])"
      ]
     },
     "execution_count": 74,
     "metadata": {},
     "output_type": "execute_result"
    }
   ],
   "source": [
    "np.linspace(-1.5, 1.5)"
   ]
  },
  {
   "cell_type": "code",
   "execution_count": 75,
   "metadata": {
    "collapsed": true
   },
   "outputs": [
    {
     "data": {
      "text/plain": [
       "[(1, 2),\n",
       " (1, 1),\n",
       " (1, 1),\n",
       " (1, 1),\n",
       " (1, 2),\n",
       " (1, 1),\n",
       " (1, 1),\n",
       " (1, 1),\n",
       " (1, 22),\n",
       " (1, 1),\n",
       " (1, 5),\n",
       " (1, 5),\n",
       " (1, 8),\n",
       " (1, 2),\n",
       " (1, 8),\n",
       " (1, 2),\n",
       " (2, 8),\n",
       " (1, 14),\n",
       " (2, 14),\n",
       " (2, 22),\n",
       " (3, 46),\n",
       " (4, 138),\n",
       " (10, 168),\n",
       " (28, 738),\n",
       " (80, 1173),\n",
       " (15, 158),\n",
       " (2, 35),\n",
       " (2, 20),\n",
       " (2, 14),\n",
       " (2, 8),\n",
       " (1, 3),\n",
       " (3, 7),\n",
       " (1, 1),\n",
       " (1, 2),\n",
       " (1, 2),\n",
       " (1, 2),\n",
       " (1, 2),\n",
       " (2, 1),\n",
       " (1, 3),\n",
       " (1, 1),\n",
       " (1, 2),\n",
       " (1, 1),\n",
       " (1, 1),\n",
       " (1, 1),\n",
       " (1, 1),\n",
       " (1, 1),\n",
       " (1, 1),\n",
       " (1, 1),\n",
       " (1, 1)]"
      ]
     },
     "execution_count": 75,
     "metadata": {},
     "output_type": "execute_result"
    }
   ],
   "source": [
    "zip(smoothed_plusses, smoothed_minuses)"
   ]
  },
  {
   "cell_type": "code",
   "execution_count": 76,
   "metadata": {
    "collapsed": false
   },
   "outputs": [
    {
     "data": {
      "text/plain": [
       "0.32297776350946455"
      ]
     },
     "execution_count": 76,
     "metadata": {},
     "output_type": "execute_result"
    }
   ],
   "source": [
    "scipy.stats.entropy(smoothed_plusses, smoothed_minuses)"
   ]
  }
 ],
 "metadata": {
  "kernelspec": {
   "display_name": "Python 2",
   "language": "python",
   "name": "python2"
  },
  "language_info": {
   "codemirror_mode": {
    "name": "ipython",
    "version": 2
   },
   "file_extension": ".py",
   "mimetype": "text/x-python",
   "name": "python",
   "nbconvert_exporter": "python",
   "pygments_lexer": "ipython2",
   "version": "2.7.6"
  }
 },
 "nbformat": 4,
 "nbformat_minor": 0
}
