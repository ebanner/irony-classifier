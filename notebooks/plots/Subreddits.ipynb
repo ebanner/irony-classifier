{
 "cells": [
  {
   "cell_type": "code",
   "execution_count": 215,
   "metadata": {
    "collapsed": true
   },
   "outputs": [],
   "source": [
    "base = '/u/ebanner/Classes/nlp/Project/irony-classifier'"
   ]
  },
  {
   "cell_type": "code",
   "execution_count": 213,
   "metadata": {
    "collapsed": true
   },
   "outputs": [],
   "source": [
    "base = '/u/npockrus/NLP/finalProject/venv/src/irony-classifier'"
   ]
  },
  {
   "cell_type": "markdown",
   "metadata": {},
   "source": [
    "# Load Subreddits and Labels"
   ]
  },
  {
   "cell_type": "code",
   "execution_count": 216,
   "metadata": {
    "collapsed": false
   },
   "outputs": [
    {
     "name": "stdout",
     "output_type": "stream",
     "text": [
      "/v/filer4b/v20q001/ebanner/Classes/nlp/Project/irony-classifier/data/conservative/features/text+sentiment+subreddit+label+progressiviness\n"
     ]
    }
   ],
   "source": [
    "cd /{base}/data/conservative/features/text+sentiment+subreddit+label+progressiviness/"
   ]
  },
  {
   "cell_type": "code",
   "execution_count": 217,
   "metadata": {
    "collapsed": false
   },
   "outputs": [],
   "source": [
    "import pickle\n",
    "import scipy\n",
    "import numpy as np\n",
    "\n",
    "with open('features.p', 'r') as f:\n",
    "    data = pickle.load(f)\n",
    "\n",
    "subreddits = np.array([data[sentence]['subreddits'] for sentence in sorted(data)])\n",
    "ys = np.array([ data[sentence]['label'] for sentence in sorted(data) ])"
   ]
  },
  {
   "cell_type": "markdown",
   "metadata": {},
   "source": [
    "# Frequency Counts"
   ]
  },
  {
   "cell_type": "code",
   "execution_count": 218,
   "metadata": {
    "collapsed": false
   },
   "outputs": [],
   "source": [
    "from collections import defaultdict\n",
    "\n",
    "all = defaultdict(int)\n",
    "for subreddit_list in subreddits:\n",
    "    for subreddit in subreddit_list:\n",
    "        all[subreddit] += 1"
   ]
  },
  {
   "cell_type": "markdown",
   "metadata": {},
   "source": [
    "# Get Breakdown for Every Subreddit"
   ]
  },
  {
   "cell_type": "code",
   "execution_count": 219,
   "metadata": {
    "collapsed": false
   },
   "outputs": [],
   "source": [
    "from collections import defaultdict\n",
    "\n",
    "ironics = defaultdict(int)\n",
    "for subreddit_list, y in zip(subreddits, ys):\n",
    "    if y == 1:\n",
    "        for subreddit in subreddit_list:\n",
    "            ironics[subreddit] += 1"
   ]
  },
  {
   "cell_type": "code",
   "execution_count": 220,
   "metadata": {
    "collapsed": true
   },
   "outputs": [],
   "source": [
    "from collections import defaultdict\n",
    "\n",
    "genuines = defaultdict(int)\n",
    "for subreddit_list, y in zip(subreddits, ys):\n",
    "    if y == -1:\n",
    "        for subreddit in subreddit_list:\n",
    "            genuines[subreddit] += 1"
   ]
  },
  {
   "cell_type": "code",
   "execution_count": 221,
   "metadata": {
    "collapsed": true
   },
   "outputs": [],
   "source": [
    "for subreddit in all:\n",
    "    assert genuines[subreddit] + ironics[subreddit] == all[subreddit]"
   ]
  },
  {
   "cell_type": "markdown",
   "metadata": {},
   "source": [
    "# Generate Parallel List for All, Ironics, and Genuines"
   ]
  },
  {
   "cell_type": "code",
   "execution_count": 222,
   "metadata": {
    "collapsed": false
   },
   "outputs": [],
   "source": [
    "import operator\n",
    "\n",
    "subreddit_list = [0]*len(all)\n",
    "ironic_list, genuine_list, all_list = [0]*len(all), [0]*len(all), [0]*len(all)\n",
    "for i, pair in enumerate(sorted(all.items(), key=operator.itemgetter(1), reverse=True)):\n",
    "    subreddit, count = pair\n",
    "    \n",
    "    subreddit_list[i] = subreddit\n",
    "    ironic_list[i], genuine_list[i], all_list[i] = ironics[subreddit], genuines[subreddit], all[subreddit]\n",
    "    \n",
    "# Sanity Check\n",
    "for subreddit, irony, genuine, a in zip(subreddit_list, ironic_list, genuine_list, all_list):\n",
    "    assert irony + genuine == a\n",
    "    assert ironics[subreddit] + genuines[subreddit] == all[subreddit]"
   ]
  },
  {
   "cell_type": "markdown",
   "metadata": {},
   "source": [
    "# Normalize"
   ]
  },
  {
   "cell_type": "code",
   "execution_count": 223,
   "metadata": {
    "collapsed": true
   },
   "outputs": [],
   "source": [
    "num_ironics = len([ y for y in ys if y ==  1 ])\n",
    "num_genuines = len([ y for y in ys if y == -1 ])"
   ]
  },
  {
   "cell_type": "code",
   "execution_count": 224,
   "metadata": {
    "collapsed": false
   },
   "outputs": [],
   "source": [
    "normalized_ironics = [ (count+1)/(float(num_ironics)+1) for count in ironic_list ]\n",
    "normalized_genuines = [ (count+1)/(float(num_genuines)+1) for count in genuine_list ]"
   ]
  },
  {
   "cell_type": "markdown",
   "metadata": {},
   "source": [
    "# Compute Similarity + Smoothing"
   ]
  },
  {
   "cell_type": "code",
   "execution_count": 225,
   "metadata": {
    "collapsed": false
   },
   "outputs": [],
   "source": [
    "divergences = [ float(ironic)/genuine for ironic, genuine in zip(normalized_ironics, normalized_genuines) ]"
   ]
  },
  {
   "cell_type": "markdown",
   "metadata": {},
   "source": [
    "# Most Indicitave Subreddits for Genuine Sentences"
   ]
  },
  {
   "cell_type": "code",
   "execution_count": 239,
   "metadata": {
    "collapsed": false
   },
   "outputs": [],
   "source": [
    "# Number of Subreddits\n",
    "N = 10"
   ]
  },
  {
   "cell_type": "code",
   "execution_count": 240,
   "metadata": {
    "collapsed": true
   },
   "outputs": [],
   "source": [
    "top_subreddits = [ subreddit for divergence, subreddit in sorted(zip(divergences, subreddit_list)) ][:N]\n",
    "top_divergences = [ divergence for divergence, subreddit in sorted(zip(divergences, subreddit_list)) ][:N]"
   ]
  },
  {
   "cell_type": "code",
   "execution_count": 241,
   "metadata": {
    "collapsed": false
   },
   "outputs": [
    {
     "data": {
      "image/png": "[encoded data removed]",
      "text/plain": [
       "<matplotlib.figure.Figure at 0x7fc5419bc250>"
      ]
     },
     "metadata": {},
     "output_type": "display_data"
    }
   ],
   "source": [
    "import matplotlib\n",
    "import pylab\n",
    "\n",
    "pos = arange(N)+.5\n",
    "pylab.figure(1)\n",
    "\n",
    "pylab.barh(pos, top_divergences[::-1], align='center', height=0.1)    # notice the 'height' argument\n",
    "\n",
    "pylab.yticks(pos, top_subreddits[::-1])\n",
    "\n",
    "pylab.gca().axvline(0, color='k', lw=3)\n",
    "\n",
    "pylab.xlabel('Divergence')\n",
    "pylab.title('Subreddits Most Correlated with Irony')\n",
    "pylab.grid(True)\n",
    "show()"
   ]
  },
  {
   "cell_type": "markdown",
   "metadata": {},
   "source": [
    "# Most Indicitave Subreddits for Ironic Sentences"
   ]
  },
  {
   "cell_type": "code",
   "execution_count": 229,
   "metadata": {
    "collapsed": true
   },
   "outputs": [],
   "source": [
    "N = 10"
   ]
  },
  {
   "cell_type": "code",
   "execution_count": 230,
   "metadata": {
    "collapsed": true
   },
   "outputs": [],
   "source": [
    "bottom_subreddits = [ subreddit for divergence, subreddit in sorted(zip(divergences, subreddit_list), reverse=True) ][:N]\n",
    "bottom_divergences = [ divergence for divergence, subreddit in sorted(zip(divergences, subreddit_list), reverse=True) ][:N]"
   ]
  },
  {
   "cell_type": "code",
   "execution_count": 231,
   "metadata": {
    "collapsed": true
   },
   "outputs": [],
   "source": [
    "%matplotlib inline"
   ]
  },
  {
   "cell_type": "code",
   "execution_count": 238,
   "metadata": {
    "collapsed": false,
    "scrolled": true
   },
   "outputs": [
    {
     "data": {
      "image/png": "[encoded data removed]",
      "text/plain": [
       "<matplotlib.figure.Figure at 0x7fc5413d7910>"
      ]
     },
     "metadata": {},
     "output_type": "display_data"
    }
   ],
   "source": [
    "import matplotlib\n",
    "import pylab\n",
    "\n",
    "pos = arange(N)+.5\n",
    "pylab.figure(1)\n",
    "\n",
    "pylab.barh(pos, bottom_divergences[::-1], align='center', height=0.1)    # notice the 'height' argument\n",
    "\n",
    "pylab.yticks(pos, bottom_subreddits[::-1])\n",
    "\n",
    "pylab.gca().axvline(0, color='k', lw=3)\n",
    "\n",
    "pylab.xlabel('Divergence')\n",
    "pylab.title('Subreddits Most Correlated with Irony')\n",
    "pylab.grid(True)\n",
    "show()"
   ]
  },
  {
   "cell_type": "markdown",
   "metadata": {},
   "source": [
    "# Divergences for All Subreddits (Most Common First)"
   ]
  },
  {
   "cell_type": "code",
   "execution_count": 244,
   "metadata": {
    "collapsed": true
   },
   "outputs": [],
   "source": [
    "N = len(all)"
   ]
  },
  {
   "cell_type": "code",
   "execution_count": 248,
   "metadata": {
    "collapsed": false
   },
   "outputs": [
    {
     "data": {
      "image/png": "[encoded data removed]",
      "text/plain": [
       "<matplotlib.figure.Figure at 0x7fc53ff84d90>"
      ]
     },
     "metadata": {},
     "output_type": "display_data"
    }
   ],
   "source": [
    "import matplotlib.pyplot as plt\n",
    "\n",
    "fig = plt.figure()\n",
    "axes = fig.add_subplot(111)\n",
    "\n",
    "indicies = np.arange(N)\n",
    "\n",
    "rectangles = axes.bar(range(N), [ divergence-1 for divergence in divergences], align='center')\n",
    "\n",
    "plt.ylabel('Divergence')\n",
    "plt.title('Visualization of Usefulness of Subreddits')\n",
    "plt.grid(True)\n",
    "    \n",
    "plt.show()"
   ]
  }
 ],
 "metadata": {
  "kernelspec": {
   "display_name": "Python 2",
   "language": "python",
   "name": "python2"
  },
  "language_info": {
   "codemirror_mode": {
    "name": "ipython",
    "version": 2
   },
   "file_extension": ".py",
   "mimetype": "text/x-python",
   "name": "python",
   "nbconvert_exporter": "python",
   "pygments_lexer": "ipython2",
   "version": "2.7.6"
  }
 },
 "nbformat": 4,
 "nbformat_minor": 0
}
