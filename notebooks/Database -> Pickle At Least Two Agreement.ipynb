{
 "cells": [
  {
   "cell_type": "code",
   "execution_count": 1,
   "metadata": {
    "collapsed": false
   },
   "outputs": [
    {
     "name": "stdout",
     "output_type": "stream",
     "text": [
      "/v/filer4b/v20q001/ebanner/Classes/nlp/Project/irony-classifier\n"
     ]
    }
   ],
   "source": [
    "cd /v/filer4b/v20q001/ebanner/Classes/nlp/Project/irony-classifier"
   ]
  },
  {
   "cell_type": "code",
   "execution_count": 1,
   "metadata": {
    "collapsed": false
   },
   "outputs": [
    {
     "name": "stdout",
     "output_type": "stream",
     "text": [
      "/v/filer4b/v20q001/npockrus/NLP/finalProject/venv/src/irony-classifier\n"
     ]
    }
   ],
   "source": [
    "cd /v/filer4b/v20q001/npockrus/NLP/finalProject/venv/src/irony-classifier/"
   ]
  },
  {
   "cell_type": "markdown",
   "metadata": {},
   "source": [
    "# Load Conservative Comments From Database"
   ]
  },
  {
   "cell_type": "code",
   "execution_count": 2,
   "metadata": {
    "collapsed": false,
    "scrolled": false
   },
   "outputs": [
    {
     "name": "stdout",
     "output_type": "stream",
     "text": [
      "PWD!!!!! /v/filer4b/v20q001/npockrus/NLP/finalProject/venv/src/irony-classifier\n",
      "train/dev database path: /u/npockrus/NLP/finalProject/venv/src/irony-classifier/data/ironate-dk3.sqlite\n",
      "test database path: /u/npockrus/NLP/finalProject/venv/src/irony-classifier/data/ironate-dk3.sqlite\n",
      "5019 comments have been labeled by >= 3 people\n"
     ]
    },
    {
     "name": "stderr",
     "output_type": "stream",
     "text": [
      "/u/npockrus/NLP/finalProject/venv/src/irony-classifier/lib/annotation_stats.py:64: DeprecationWarning: You passed a bytestring as `filenames`. This will not work on Python 3. Use `cp.read_file()` or switch to using Unicode strings across the board.\n",
      "  config.read(\"irony.ini\")\n"
     ]
    }
   ],
   "source": [
    "import annotation_stats as db\n",
    "\n",
    "labeled_comment_ids = db.get_labeled_thrice_comments()\n",
    "conservative_comment_ids = list(set([c_id for c_id in \n",
    "        db.get_all_comments_from_subreddit(\"Conservative\") if c_id in labeled_comment_ids]))\n",
    "#conservative_sentence_ids = get_sentence_ids_for_comments(conservative_comment_ids)\n",
    "collapse_f = lambda lbl_set: 1 if lbl_set.count(1) >=2 else -1\n",
    "conserv_ids, conserv_texts, conserv_lbls = db.get_texts_and_labels_for_sentences(conservative_comment_ids, add_punctuation_features_to_text=False, collapse=collapse_f)\n",
    "sentiments = db.get_sentiments(conserv_ids)\n",
    "\n",
    "xs, ys = conserv_texts, conserv_lbls"
   ]
  },
  {
   "cell_type": "markdown",
   "metadata": {},
   "source": [
    "# Pickle"
   ]
  },
  {
   "cell_type": "code",
   "execution_count": 3,
   "metadata": {
    "collapsed": false
   },
   "outputs": [
    {
     "name": "stdout",
     "output_type": "stream",
     "text": [
      "[Errno 13] Permission denied: '/v/filer4b/v20q001/ebanner/Classes/nlp/Project/irony-classifier/data/conservative/clean/'\n",
      "/v/filer4b/v20q001/npockrus/NLP/finalProject/venv/src/irony-classifier\n"
     ]
    }
   ],
   "source": [
    "cd /v/filer4b/v20q001/ebanner/Classes/nlp/Project/irony-classifier/data/conservative/clean/"
   ]
  },
  {
   "cell_type": "code",
   "execution_count": 5,
   "metadata": {
    "collapsed": false
   },
   "outputs": [
    {
     "name": "stdout",
     "output_type": "stream",
     "text": [
      "/v/filer4b/v20q001/npockrus/NLP/finalProject/venv/src/irony-classifier/data/conservative/clean\n"
     ]
    }
   ],
   "source": [
    "cd /v/filer4b/v20q001/npockrus/NLP/finalProject/venv/src/irony-classifier/data/conservative/clean/"
   ]
  },
  {
   "cell_type": "code",
   "execution_count": 6,
   "metadata": {
    "collapsed": false
   },
   "outputs": [],
   "source": [
    "import pickle\n",
    "\n",
    "with open('agreement-2+.p', 'wb') as f:\n",
    "    pickle.dump(zip(xs, ys), f)"
   ]
  },
  {
   "cell_type": "code",
   "execution_count": null,
   "metadata": {
    "collapsed": true
   },
   "outputs": [],
   "source": []
  }
 ],
 "metadata": {
  "kernelspec": {
   "display_name": "Python 2",
   "language": "python",
   "name": "python2"
  },
  "language_info": {
   "codemirror_mode": {
    "name": "ipython",
    "version": 2
   },
   "file_extension": ".py",
   "mimetype": "text/x-python",
   "name": "python",
   "nbconvert_exporter": "python",
   "pygments_lexer": "ipython2",
   "version": "2.7.6"
  }
 },
 "nbformat": 4,
 "nbformat_minor": 0
}
