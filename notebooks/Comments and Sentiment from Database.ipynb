{
 "cells": [
  {
   "cell_type": "code",
   "execution_count": 15,
   "metadata": {
    "collapsed": false
   },
   "outputs": [
    {
     "name": "stdout",
     "output_type": "stream",
     "text": [
      "[Errno 2] No such file or directory: '/u/npockrus/NLP/finalProject/venv/src/irony-classifier/data/features/sentiment'\n",
      "/v/filer4b/v20q001/npockrus/NLP/finalProject/venv/src/irony-classifier/notebooks\n"
     ]
    }
   ],
   "source": [
    "cd /u/npockrus/NLP/finalProject/venv/src/irony-classifier/data/features/sentiment"
   ]
  },
  {
   "cell_type": "code",
   "execution_count": 11,
   "metadata": {
    "collapsed": false
   },
   "outputs": [
    {
     "name": "stdout",
     "output_type": "stream",
     "text": [
      "5019 comments have been labeled by >= 3 people\n"
     ]
    }
   ],
   "source": [
    "import annotation_stats as db\n",
    "\n",
    "labeled_comment_ids = db.get_labeled_thrice_comments()\n",
    "conservative_comment_ids = list(set([c_id for c_id in \n",
    "        db.get_all_comments_from_subreddit(\"Conservative\") if c_id in labeled_comment_ids]))\n",
    "ironic_comment_ids = db.get_ironic_comment_ids()\n",
    " \n",
    "xs, ys, sentiments = [], [], []\n",
    "for id_ in conservative_comment_ids:\n",
    "    xs.append(db.grab_comments([id_])[0])\n",
    "    sentiments.append(db.get_sentiment(id_))\n",
    "    if id_ in ironic_comment_ids:\n",
    "        ys.append(1)\n",
    "    else:\n",
    "        ys.append(-1)"
   ]
  },
  {
   "cell_type": "code",
   "execution_count": 14,
   "metadata": {
    "collapsed": false
   },
   "outputs": [],
   "source": [
    "import pickle\n",
    "\n",
    "with open('conservative_comments_with_sentiment.p', 'wb') as f:\n",
    "    pickle.dump({ comment:{'label': label, 'sentiment': sentiment} for comment, label, sentiment in zip(xs, ys, sentiments) }, f)"
   ]
  },
  {
   "cell_type": "code",
   "execution_count": null,
   "metadata": {
    "collapsed": true
   },
   "outputs": [],
   "source": []
  }
 ],
 "metadata": {
  "kernelspec": {
   "display_name": "Python 2",
   "language": "python",
   "name": "python2"
  },
  "language_info": {
   "codemirror_mode": {
    "name": "ipython",
    "version": 2
   },
   "file_extension": ".py",
   "mimetype": "text/x-python",
   "name": "python",
   "nbconvert_exporter": "python",
   "pygments_lexer": "ipython2",
   "version": "2.7.6"
  }
 },
 "nbformat": 4,
 "nbformat_minor": 0
}
