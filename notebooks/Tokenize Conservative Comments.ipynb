{
 "cells": [
  {
   "cell_type": "code",
   "execution_count": 37,
   "metadata": {
    "collapsed": false
   },
   "outputs": [
    {
     "name": "stdout",
     "output_type": "stream",
     "text": [
      "/v/filer4b/v20q001/ebanner/Classes/nlp/Project/irony-classifier/data/conservative/clean\n"
     ]
    }
   ],
   "source": [
    "cd /v/filer4b/v20q001/ebanner/Classes/nlp/Project/irony-classifier/data/conservative/clean"
   ]
  },
  {
   "cell_type": "markdown",
   "metadata": {},
   "source": [
    "# Load Comments"
   ]
  },
  {
   "cell_type": "code",
   "execution_count": 38,
   "metadata": {
    "collapsed": false
   },
   "outputs": [],
   "source": [
    "import pickle\n",
    "import scipy\n",
    "import numpy as np\n",
    "\n",
    "with open('conservative_comments.p', 'r') as f:\n",
    "    data = pickle.load(f)\n",
    "\n",
    "# Load comments, labels, and bow vectors\n",
    "xs = [ comment for comment, label in data ]\n",
    "ys = [ label for comment, label in data ]"
   ]
  },
  {
   "cell_type": "markdown",
   "metadata": {},
   "source": [
    "# Tokenize Sentences"
   ]
  },
  {
   "cell_type": "code",
   "execution_count": 39,
   "metadata": {
    "collapsed": false
   },
   "outputs": [],
   "source": [
    "from nltk.tokenize import word_tokenize, sent_tokenize\n",
    "\n",
    "tokenized_comments = [ [ word_tokenize(sentence) for sentence in sent_tokenize(comment.decode('utf-8')) ] for comment in xs ]"
   ]
  },
  {
   "cell_type": "code",
   "execution_count": 40,
   "metadata": {
    "collapsed": false
   },
   "outputs": [
    {
     "name": "stdout",
     "output_type": "stream",
     "text": [
      "/v/filer4b/v20q001/ebanner/Classes/nlp/Project/irony-classifier/data/conservative/preprocess\n"
     ]
    }
   ],
   "source": [
    "cd /v/filer4b/v20q001/ebanner/Classes/nlp/Project/irony-classifier/data/conservative/preprocess/"
   ]
  },
  {
   "cell_type": "code",
   "execution_count": 41,
   "metadata": {
    "collapsed": false
   },
   "outputs": [],
   "source": [
    "with open('berkeley-lm.txt', 'w') as f:\n",
    "    for tokenized_comment in tokenized_comments:\n",
    "        for tokenized_sentence in tokenized_comment:\n",
    "            encoded_sentence = [ word.encode('utf-8') for word in tokenized_sentence ] + ['\\n']\n",
    "            f.write(' '.join(encoded_sentence))"
   ]
  }
 ],
 "metadata": {
  "kernelspec": {
   "display_name": "Python 2",
   "language": "python",
   "name": "python2"
  },
  "language_info": {
   "codemirror_mode": {
    "name": "ipython",
    "version": 2
   },
   "file_extension": ".py",
   "mimetype": "text/x-python",
   "name": "python",
   "nbconvert_exporter": "python",
   "pygments_lexer": "ipython2",
   "version": "2.7.6"
  }
 },
 "nbformat": 4,
 "nbformat_minor": 0
}
