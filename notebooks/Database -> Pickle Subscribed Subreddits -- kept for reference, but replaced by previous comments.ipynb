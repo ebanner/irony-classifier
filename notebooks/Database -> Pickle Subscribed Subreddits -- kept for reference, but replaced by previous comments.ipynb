{
 "cells": [
  {
   "cell_type": "code",
   "execution_count": 1,
   "metadata": {
    "collapsed": false
   },
   "outputs": [
    {
     "name": "stdout",
     "output_type": "stream",
     "text": [
      "/v/filer4b/v20q001/npockrus/NLP/finalProject/venv/src/irony-classifier/notebooks\n"
     ]
    }
   ],
   "source": [
    "cd /u/npockrus/NLP/finalProject/venv/src/irony-classifier/notebooks"
   ]
  },
  {
   "cell_type": "code",
   "execution_count": 2,
   "metadata": {
    "collapsed": false
   },
   "outputs": [
    {
     "name": "stdout",
     "output_type": "stream",
     "text": [
      "PWD!!!!! /v/filer4b/v20q001/npockrus/NLP/finalProject/venv/src/irony-classifier/notebooks\n",
      "train/dev database path: /u/npockrus/NLP/finalProject/venv/src/irony-classifier/data/ironate-dk3.sqlite\n",
      "test database path: /u/npockrus/NLP/finalProject/venv/src/irony-classifier/data/ironate-dk3.sqlite\n",
      "5019 comments have been labeled by >= 3 people\n"
     ]
    },
    {
     "name": "stderr",
     "output_type": "stream",
     "text": [
      "/u/npockrus/NLP/finalProject/venv/src/irony-classifier/lib/annotation_stats.py:64: DeprecationWarning: You passed a bytestring as `filenames`. This will not work on Python 3. Use `cp.read_file()` or switch to using Unicode strings across the board.\n",
      "  config.read(\"irony.ini\")\n"
     ]
    }
   ],
   "source": [
    "import annotation_stats as db\n",
    "\n",
    "labeled_comment_ids = db.get_labeled_thrice_comments()\n",
    "conservative_comment_ids = list(set([c_id for c_id in \n",
    "        db.get_all_comments_from_subreddit(\"Conservative\") if c_id in labeled_comment_ids]))\n",
    "ironic_comment_ids = db.get_ironic_comment_ids_at_least(2)\n",
    " \n",
    "xs, ys, author, subreddits = [], [], [], []\n",
    "for id_ in conservative_comment_ids:\n",
    "    xs.append(db.grab_comments([id_])[0])\n",
    "    author.append(db.get_user_ids([id_]))\n",
    "    subreddits.append(db.get_all_previous_subreddits_for_user(id_))\n",
    "    if id_ in ironic_comment_ids:\n",
    "        ys.append(1)\n",
    "    else:\n",
    "        ys.append(-1)\n",
    "        \n",
    "all_subreddits = _get_subreddits()"
   ]
  },
  {
   "cell_type": "code",
   "execution_count": 3,
   "metadata": {
    "collapsed": false
   },
   "outputs": [
    {
     "name": "stdout",
     "output_type": "stream",
     "text": [
      "/v/filer4b/v20q001/npockrus/NLP/finalProject/venv/src/irony-classifier/data/conservative/features/subreddits\n"
     ]
    }
   ],
   "source": [
    "cd /u/npockrus/NLP/finalProject/venv/src/irony-classifier/data/conservative/features/subreddits"
   ]
  },
  {
   "cell_type": "code",
   "execution_count": 5,
   "metadata": {
    "collapsed": false
   },
   "outputs": [],
   "source": [
    "import pickle\n",
    "\n",
    "with open('features.p', 'wb') as f:\n",
    "    pickle.dump({ comment:{'label': label, 'subreddits': subreddit} for comment, label, subreddit in zip(xs, ys, subreddits) }, f)"
   ]
  },
  {
   "cell_type": "code",
   "execution_count": 5,
   "metadata": {
    "collapsed": false
   },
   "outputs": [
    {
     "name": "stdout",
     "output_type": "stream",
     "text": [
      "949\n",
      "[[], [], [], [], [], [], [], [], [], [], [], [], [], [], [], [], [], [], [], [], [], [], [], [], [], [], [], [], [], [], [], [], [], [], [], [], [], [], [], [], [], [], [], [], [], [], [], [], [], [], [], [], [], [], [], [], [], [], [], [], [], [], [], [], [], [], [], [], [], [], [], [], [], [], [], [], [], [], [], [], [], [], [], [], [], [], [], [], [], [], [], [], [], [], [], [], [], [], [], [], [], [], [], [], [], [], [], [], [], [], [], [], [], [], [], [], [], [], [], [], [], [], [], [], [], [], [], [], [], [], [], [], [], [], [], [], [], [], [], [], [], [], [], [], [], [], [], [], [], [], [], [], [], [], [], [], [], [], [], [], [], [], [], [], [], [], [], [], [], [], [], [], [], [], [], [], [], [], [], [], [], [], [], [], [], [], [], [], [], [], [], [], [], [], [], [], [], [], [], [], [], [], [], [], [], [], [], [], [], [], [], [], [], [], [], [], [], [], [], [], [], [], [], [], [], [], [], [], [], [], [], [], [], [], [], [], [], [], [], [], [], [], [], [], [], [], [], [], [], [], [], [], [], [], [], [], [], [], [], [], [], [], [], [], [], [], [], [], [], [], [], [], [], [], [], [], [], [], [], [], [], [], [], [], [], [], [], [], [], [], [], [], [], [], [], [], [], [], [], [], [], [], [], [], [], [], [], [], [], [], [], [], [], [], [], [], [], [], [], [], [], [u'atheism', u'atheism', u'AskReddit', u'AskReddit', u'atheism', u'todayilearned', u'funny', u'trees', u'trees', u'trees', u'trees', u'atheism', u'atheism', u'nottheonion', u'nottheonion', u'bestof', u'bestof', u'bestof', u'bestof', u'gifs', u'atheism', u'AskReddit', u'AskReddit', u'AskReddit', u'AskReddit', u'AskReddit', u'AskReddit', u'atheism', u'todayilearned', u'atheism', u'funny', u'standupshots', u'AskReddit', u'AskReddit', u'AskReddit', u'AskReddit', u'pics', u'aww', u'trees', u'JusticePorn', u'JusticePorn', u'JusticePorn', u'AskReddit', u'AskReddit', u'AskReddit', u'occupywallstreet', u'JusticePorn', u'JusticePorn', u'JusticePorn', u'funny', u'JusticePorn', u'occupywallstreet', u'AskReddit', u'videos', u'atheism', u'AskReddit', u'AskReddit', u'AskReddit', u'AskReddit', u'AskReddit', u'AskReddit', u'AskReddit', u'AskReddit', u'AskReddit', u'AskReddit', u'AskReddit', u'AskReddit', u'AskReddit', u'AskReddit', u'AskReddit', u'atheism', u'pics', u'funny', u'AskReddit', u'AdviceAnimals', u'funny', u'funny', u'funny', u'funny', u'funny', u'funny', u'funny', u'funny', u'atheism', u'politics', u'AskReddit', u'AdviceAnimals', u'politics', u'AskReddit', u'food', u'banjo', u'AskReddit', u'politics', u'politics', u'politics', u'politics', u'politics', u'politics', u'politics', u'politics'], [], [], [], [], [], [], [], [], [], [], [], [], [], [], [], [], [], [], [], [], [], [], [], [], [], [], [], [], [], [], [], [], [], [], [], [], [], [], [], [], [], [], [], [], [], [], [], [], [], [], [], [], [], [], [], [], [], [], [], [], [], [], [], [], [], [], [], [], [], [], [], [], [], [], [], [], [], [], [], [], [], [], [], [], [], [], [], [], [], [], [], [], [], [], [], [], [], [], [], [], [], [], [], [], [], [], [], [], [], [], [], [], [], [], [], [], [], [], [], [], [], [], [], [], [], [], [], [], [], [], [], [], [], [], [], [], [], [], [], [], [], [], [], [], [], [], [], [], [], [], [], [], [], [], [], [], [], [], [], [], [], [], [], [], [], [], [], [], [], [], [], [], [], [], [], [], [], [], [], [], [], [], [], [], [], [], [], [], [], [], [], [], [], [], [], [], [], [], [], [], [], [], [], [], [], [], [], [], [], [], [], [], [], [], [], [], [], [], [], [], [], [], [], [], [], [], [], [], [], [], [], [], [], [], [], [], [], [], [], [], [], [], [], [], [], [], [], [], [], [], [], [], [], [], [], [], [], [], [], [], [], [], [], [], [], [], [], [], [], [], [], [], [], [], [], [], [], [], [], [], [], [], [], [], [], [], [], [], [], [], [], [], [], [], [], [], [], [], [], [], [], [], [], [], [], [], [], [], [], [], [], [], [], [], [], [], [], [], [], [], [], [], [], [], [], [], [], [], [], [], [], [], [], [], [], [], [], [], [], [], [], [], [], [], [], [], [], [], [], [], [], [], [], [], [], [], [], [], [], [], [], [], [], [], [], [], [], [], [], [], [], [], [], [], [], [], [], [], [], [], [], [], [], [], [], [], [], [], [], [], [], [], [], [], [], [], [], [], [], [], [], [], [], [], [], [], [], [], [], [], [u'politics', u'pics', u'reloading', u'keto', u'reloading', u'reloading', u'reloading', u'reloading', u'reloading', u'reloading', u'funny', u'funny', u'Libertarian', u'gonewildcurvy', u'AskReddit', u'IAmA', u'AskReddit', u'guns', u'guns', u'worldnews', u'guns', u'tdi', u'AskReddit', u'guns', u'Libertarian', u'askscience', u'askscience', u'Volkswagen', u'WTF', u'explainlikeimfive', u'explainlikeimfive', u'askscience', u'askscience', u'guns', u'AskReddit', u'guns', u'Libertarian', u'WTF', u'AskReddit', u'explainlikeimfive', u'askscience', u'askscience', u'guns', u'guns', u'AskEngineers', u'guns', u'AskReddit', u'guns', u'explainlikeimfive', u'askscience', u'askscience', u'guns', u'askscience', u'askscience', u'madisonwi', u'explainlikeimfive', u'reloading', u'guns', u'JusticePorn', u'askscience', u'askscience', u'askscience', u'askscience', u'guns', u'guns', u'madisonwi', u'Libertarian', u'madisonwi', u'guns', u'AskReddit', u'guns', u'politics', u'politics', u'politics', u'AskReddit', u'AdviceAnimals', u'guns', u'guns', u'guns', u'WTF'], [], [], [], [], [], [], [], [], [], [], [], [], [], [], [], [], [], [], [], [], [], [], [], [], [], [], [], [], [], [], [], [], [], [], [], [], [], [], [], [], [], [], [], [], [], [], [], [], [], [], [], [], [], [], [], [], [], [], [], [], [], [], [], [], [], [], [], [], [], [], [], [], [], [], [], [], [], [], [], [], [], [], [], [], [], [], [], [], [], [], [], [], [], [], [], [], [], [], [], [], [], [], [], [], [], [], [], [], [], [], [], [], [], [], [], [], [], [], [], [], [], [], [], [], [], [], [], [], [], [], [], [], [], [], [], [], [], [], [], [], [], [], [], [], [], [], [], [], [], [], [], [], [], [], [], [], [], [], [], [], [], [], [], [], [], [], [], [], [], [], [], [], [], [], [], [], [], [], [], [], [], [], [], [], [], [], [], [], [], [], [], [], [], [], [], [], [], [], [], [], [], [], [], [], [], [], [], [], [], [], [], [], [], [], [], []]\n",
      "[(u'crosenblum',)]\n",
      "3\n"
     ]
    }
   ],
   "source": [
    "print len(subreddits)\n",
    "print subreddits\n",
    "print author[0]\n",
    "print conservative_comment_ids[0]"
   ]
  },
  {
   "cell_type": "code",
   "execution_count": null,
   "metadata": {
    "collapsed": true
   },
   "outputs": [],
   "source": []
  }
 ],
 "metadata": {
  "kernelspec": {
   "display_name": "Python 2",
   "language": "python",
   "name": "python2"
  },
  "language_info": {
   "codemirror_mode": {
    "name": "ipython",
    "version": 2
   },
   "file_extension": ".py",
   "mimetype": "text/x-python",
   "name": "python",
   "nbconvert_exporter": "python",
   "pygments_lexer": "ipython2",
   "version": "2.7.6"
  }
 },
 "nbformat": 4,
 "nbformat_minor": 0
}
